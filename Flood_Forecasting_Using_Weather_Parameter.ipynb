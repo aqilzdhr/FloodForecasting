{
  "nbformat": 4,
  "nbformat_minor": 0,
  "metadata": {
    "colab": {
      "provenance": [],
      "authorship_tag": "ABX9TyPUKa+8Z980rl+G6FrfmhdN",
      "include_colab_link": true
    },
    "kernelspec": {
      "name": "python3",
      "display_name": "Python 3"
    },
    "language_info": {
      "name": "python"
    }
  },
  "cells": [
    {
      "cell_type": "markdown",
      "metadata": {
        "id": "view-in-github",
        "colab_type": "text"
      },
      "source": [
        "<a href=\"https://colab.research.google.com/github/aqilzdhr/FloodForecasting/blob/main/Flood_Forecasting_Using_Weather_Parameter.ipynb\" target=\"_parent\"><img src=\"https://colab.research.google.com/assets/colab-badge.svg\" alt=\"Open In Colab\"/></a>"
      ]
    },
    {
      "cell_type": "markdown",
      "source": [
        "Importing Library"
      ],
      "metadata": {
        "id": "e4umQ1eq7mn7"
      }
    },
    {
      "cell_type": "code",
      "source": [
        "# Tensorflow / Keras\n",
        "from tensorflow import keras \n",
        "print('Tensorflow/Keras: %s' % keras.__version__) \n",
        "from keras.models import Sequential\n",
        "from keras import Input \n",
        "from keras.layers import Dense, SimpleRNN\n",
        "\n",
        "# Data manipulation\n",
        "import pandas as pd \n",
        "print('pandas: %s' % pd.__version__) \n",
        "import numpy as np \n",
        "print('numpy: %s' % np.__version__) \n",
        "import math \n",
        "\n",
        "# Sklearn\n",
        "import sklearn \n",
        "print('sklearn: %s' % sklearn.__version__) \n",
        "from sklearn.model_selection import train_test_split \n",
        "from sklearn.metrics import mean_squared_error \n",
        "from sklearn.preprocessing import MinMaxScaler \n",
        "\n",
        "# Visualization\n",
        "import plotly \n",
        "import plotly.express as px\n",
        "import plotly.graph_objects as go\n",
        "print('plotly: %s' % plotly.__version__) "
      ],
      "metadata": {
        "colab": {
          "base_uri": "https://localhost:8080/"
        },
        "id": "1byu7sNf7pEQ",
        "outputId": "fd3a9c0e-9f55-491e-b0ec-09cf88bdd19b"
      },
      "execution_count": null,
      "outputs": [
        {
          "output_type": "stream",
          "name": "stdout",
          "text": [
            "Tensorflow/Keras: 2.9.0\n",
            "pandas: 1.3.5\n",
            "numpy: 1.21.6\n",
            "sklearn: 1.0.2\n",
            "plotly: 5.5.0\n"
          ]
        }
      ]
    },
    {
      "cell_type": "markdown",
      "source": [
        "Data Manipulation"
      ],
      "metadata": {
        "id": "ho8U8DGV8Qud"
      }
    },
    {
      "cell_type": "code",
      "source": [
        "pd.options.display.max_columns=100\n",
        "\n",
        "from google.colab import files\n",
        "uploaded = files.upload()"
      ],
      "metadata": {
        "colab": {
          "base_uri": "https://localhost:8080/",
          "height": 73
        },
        "id": "Iy41l_aE8T1A",
        "outputId": "d07e0100-ea6e-4678-cbcc-a45acd93e0ed"
      },
      "execution_count": null,
      "outputs": [
        {
          "output_type": "display_data",
          "data": {
            "text/plain": [
              "<IPython.core.display.HTML object>"
            ],
            "text/html": [
              "\n",
              "     <input type=\"file\" id=\"files-e6db2aa0-2f12-4629-9d65-63183e5b1867\" name=\"files[]\" multiple disabled\n",
              "        style=\"border:none\" />\n",
              "     <output id=\"result-e6db2aa0-2f12-4629-9d65-63183e5b1867\">\n",
              "      Upload widget is only available when the cell has been executed in the\n",
              "      current browser session. Please rerun this cell to enable.\n",
              "      </output>\n",
              "      <script>// Copyright 2017 Google LLC\n",
              "//\n",
              "// Licensed under the Apache License, Version 2.0 (the \"License\");\n",
              "// you may not use this file except in compliance with the License.\n",
              "// You may obtain a copy of the License at\n",
              "//\n",
              "//      http://www.apache.org/licenses/LICENSE-2.0\n",
              "//\n",
              "// Unless required by applicable law or agreed to in writing, software\n",
              "// distributed under the License is distributed on an \"AS IS\" BASIS,\n",
              "// WITHOUT WARRANTIES OR CONDITIONS OF ANY KIND, either express or implied.\n",
              "// See the License for the specific language governing permissions and\n",
              "// limitations under the License.\n",
              "\n",
              "/**\n",
              " * @fileoverview Helpers for google.colab Python module.\n",
              " */\n",
              "(function(scope) {\n",
              "function span(text, styleAttributes = {}) {\n",
              "  const element = document.createElement('span');\n",
              "  element.textContent = text;\n",
              "  for (const key of Object.keys(styleAttributes)) {\n",
              "    element.style[key] = styleAttributes[key];\n",
              "  }\n",
              "  return element;\n",
              "}\n",
              "\n",
              "// Max number of bytes which will be uploaded at a time.\n",
              "const MAX_PAYLOAD_SIZE = 100 * 1024;\n",
              "\n",
              "function _uploadFiles(inputId, outputId) {\n",
              "  const steps = uploadFilesStep(inputId, outputId);\n",
              "  const outputElement = document.getElementById(outputId);\n",
              "  // Cache steps on the outputElement to make it available for the next call\n",
              "  // to uploadFilesContinue from Python.\n",
              "  outputElement.steps = steps;\n",
              "\n",
              "  return _uploadFilesContinue(outputId);\n",
              "}\n",
              "\n",
              "// This is roughly an async generator (not supported in the browser yet),\n",
              "// where there are multiple asynchronous steps and the Python side is going\n",
              "// to poll for completion of each step.\n",
              "// This uses a Promise to block the python side on completion of each step,\n",
              "// then passes the result of the previous step as the input to the next step.\n",
              "function _uploadFilesContinue(outputId) {\n",
              "  const outputElement = document.getElementById(outputId);\n",
              "  const steps = outputElement.steps;\n",
              "\n",
              "  const next = steps.next(outputElement.lastPromiseValue);\n",
              "  return Promise.resolve(next.value.promise).then((value) => {\n",
              "    // Cache the last promise value to make it available to the next\n",
              "    // step of the generator.\n",
              "    outputElement.lastPromiseValue = value;\n",
              "    return next.value.response;\n",
              "  });\n",
              "}\n",
              "\n",
              "/**\n",
              " * Generator function which is called between each async step of the upload\n",
              " * process.\n",
              " * @param {string} inputId Element ID of the input file picker element.\n",
              " * @param {string} outputId Element ID of the output display.\n",
              " * @return {!Iterable<!Object>} Iterable of next steps.\n",
              " */\n",
              "function* uploadFilesStep(inputId, outputId) {\n",
              "  const inputElement = document.getElementById(inputId);\n",
              "  inputElement.disabled = false;\n",
              "\n",
              "  const outputElement = document.getElementById(outputId);\n",
              "  outputElement.innerHTML = '';\n",
              "\n",
              "  const pickedPromise = new Promise((resolve) => {\n",
              "    inputElement.addEventListener('change', (e) => {\n",
              "      resolve(e.target.files);\n",
              "    });\n",
              "  });\n",
              "\n",
              "  const cancel = document.createElement('button');\n",
              "  inputElement.parentElement.appendChild(cancel);\n",
              "  cancel.textContent = 'Cancel upload';\n",
              "  const cancelPromise = new Promise((resolve) => {\n",
              "    cancel.onclick = () => {\n",
              "      resolve(null);\n",
              "    };\n",
              "  });\n",
              "\n",
              "  // Wait for the user to pick the files.\n",
              "  const files = yield {\n",
              "    promise: Promise.race([pickedPromise, cancelPromise]),\n",
              "    response: {\n",
              "      action: 'starting',\n",
              "    }\n",
              "  };\n",
              "\n",
              "  cancel.remove();\n",
              "\n",
              "  // Disable the input element since further picks are not allowed.\n",
              "  inputElement.disabled = true;\n",
              "\n",
              "  if (!files) {\n",
              "    return {\n",
              "      response: {\n",
              "        action: 'complete',\n",
              "      }\n",
              "    };\n",
              "  }\n",
              "\n",
              "  for (const file of files) {\n",
              "    const li = document.createElement('li');\n",
              "    li.append(span(file.name, {fontWeight: 'bold'}));\n",
              "    li.append(span(\n",
              "        `(${file.type || 'n/a'}) - ${file.size} bytes, ` +\n",
              "        `last modified: ${\n",
              "            file.lastModifiedDate ? file.lastModifiedDate.toLocaleDateString() :\n",
              "                                    'n/a'} - `));\n",
              "    const percent = span('0% done');\n",
              "    li.appendChild(percent);\n",
              "\n",
              "    outputElement.appendChild(li);\n",
              "\n",
              "    const fileDataPromise = new Promise((resolve) => {\n",
              "      const reader = new FileReader();\n",
              "      reader.onload = (e) => {\n",
              "        resolve(e.target.result);\n",
              "      };\n",
              "      reader.readAsArrayBuffer(file);\n",
              "    });\n",
              "    // Wait for the data to be ready.\n",
              "    let fileData = yield {\n",
              "      promise: fileDataPromise,\n",
              "      response: {\n",
              "        action: 'continue',\n",
              "      }\n",
              "    };\n",
              "\n",
              "    // Use a chunked sending to avoid message size limits. See b/62115660.\n",
              "    let position = 0;\n",
              "    do {\n",
              "      const length = Math.min(fileData.byteLength - position, MAX_PAYLOAD_SIZE);\n",
              "      const chunk = new Uint8Array(fileData, position, length);\n",
              "      position += length;\n",
              "\n",
              "      const base64 = btoa(String.fromCharCode.apply(null, chunk));\n",
              "      yield {\n",
              "        response: {\n",
              "          action: 'append',\n",
              "          file: file.name,\n",
              "          data: base64,\n",
              "        },\n",
              "      };\n",
              "\n",
              "      let percentDone = fileData.byteLength === 0 ?\n",
              "          100 :\n",
              "          Math.round((position / fileData.byteLength) * 100);\n",
              "      percent.textContent = `${percentDone}% done`;\n",
              "\n",
              "    } while (position < fileData.byteLength);\n",
              "  }\n",
              "\n",
              "  // All done.\n",
              "  yield {\n",
              "    response: {\n",
              "      action: 'complete',\n",
              "    }\n",
              "  };\n",
              "}\n",
              "\n",
              "scope.google = scope.google || {};\n",
              "scope.google.colab = scope.google.colab || {};\n",
              "scope.google.colab._files = {\n",
              "  _uploadFiles,\n",
              "  _uploadFilesContinue,\n",
              "};\n",
              "})(self);\n",
              "</script> "
            ]
          },
          "metadata": {}
        },
        {
          "output_type": "stream",
          "name": "stdout",
          "text": [
            "Saving data1.csv to data1.csv\n"
          ]
        }
      ]
    },
    {
      "cell_type": "code",
      "source": [
        "weather = \"/content/data1.csv\"\n",
        "weather = pd.read_csv(weather)\n",
        "weather.head(100)"
      ],
      "metadata": {
        "colab": {
          "base_uri": "https://localhost:8080/",
          "height": 424
        },
        "id": "8Efsg9Mq8ghC",
        "outputId": "ee005b97-d040-4953-cf52-4911d821900b"
      },
      "execution_count": null,
      "outputs": [
        {
          "output_type": "execute_result",
          "data": {
            "text/plain": [
              "         Date   UT time  Temperature (K)  Relative Humidity (%)  \\\n",
              "0   5/11/2015  24:00:00           299.27                  89.13   \n",
              "1   5/16/2015  24:00:00           299.25                  87.39   \n",
              "2   5/19/2015  24:00:00           298.74                  86.76   \n",
              "3   5/21/2015  24:00:00           298.87                  86.45   \n",
              "4   6/14/2015  24:00:00           298.82                  84.94   \n",
              "..        ...       ...              ...                    ...   \n",
              "95   8/5/2019  24:00:00           298.64                  82.48   \n",
              "96  8/20/2019  24:00:00           299.77                  81.86   \n",
              "97  8/21/2019  24:00:00           297.34                  87.43   \n",
              "98  8/22/2019  24:00:00           298.46                  83.97   \n",
              "99  8/23/2019  24:00:00           298.47                  85.22   \n",
              "\n",
              "    Pressure (hPa)  Wind speed (m/s)  Wind direction  Rainfall (mm)  Flood  \n",
              "0           974.84              1.01           97.75      74.591100      1  \n",
              "1           975.16              1.06          147.34      62.907876      1  \n",
              "2           975.74              1.32          212.52      61.708716      1  \n",
              "3           976.07              0.43          311.13     114.142248      1  \n",
              "4           973.93              0.19          236.35     109.579824      1  \n",
              "..             ...               ...             ...            ...    ...  \n",
              "95          974.72              1.40          207.01       2.447867      0  \n",
              "96          974.28              0.42          161.48      62.227584      1  \n",
              "97          975.79              1.56          254.68      63.547956      1  \n",
              "98          976.17              0.20          132.76      12.019698      0  \n",
              "99          976.33              0.36          290.25      69.649776      1  \n",
              "\n",
              "[100 rows x 9 columns]"
            ],
            "text/html": [
              "\n",
              "  <div id=\"df-8ee1d334-e2c6-4329-b181-55d6b1893fc7\">\n",
              "    <div class=\"colab-df-container\">\n",
              "      <div>\n",
              "<style scoped>\n",
              "    .dataframe tbody tr th:only-of-type {\n",
              "        vertical-align: middle;\n",
              "    }\n",
              "\n",
              "    .dataframe tbody tr th {\n",
              "        vertical-align: top;\n",
              "    }\n",
              "\n",
              "    .dataframe thead th {\n",
              "        text-align: right;\n",
              "    }\n",
              "</style>\n",
              "<table border=\"1\" class=\"dataframe\">\n",
              "  <thead>\n",
              "    <tr style=\"text-align: right;\">\n",
              "      <th></th>\n",
              "      <th>Date</th>\n",
              "      <th>UT time</th>\n",
              "      <th>Temperature (K)</th>\n",
              "      <th>Relative Humidity (%)</th>\n",
              "      <th>Pressure (hPa)</th>\n",
              "      <th>Wind speed (m/s)</th>\n",
              "      <th>Wind direction</th>\n",
              "      <th>Rainfall (mm)</th>\n",
              "      <th>Flood</th>\n",
              "    </tr>\n",
              "  </thead>\n",
              "  <tbody>\n",
              "    <tr>\n",
              "      <th>0</th>\n",
              "      <td>5/11/2015</td>\n",
              "      <td>24:00:00</td>\n",
              "      <td>299.27</td>\n",
              "      <td>89.13</td>\n",
              "      <td>974.84</td>\n",
              "      <td>1.01</td>\n",
              "      <td>97.75</td>\n",
              "      <td>74.591100</td>\n",
              "      <td>1</td>\n",
              "    </tr>\n",
              "    <tr>\n",
              "      <th>1</th>\n",
              "      <td>5/16/2015</td>\n",
              "      <td>24:00:00</td>\n",
              "      <td>299.25</td>\n",
              "      <td>87.39</td>\n",
              "      <td>975.16</td>\n",
              "      <td>1.06</td>\n",
              "      <td>147.34</td>\n",
              "      <td>62.907876</td>\n",
              "      <td>1</td>\n",
              "    </tr>\n",
              "    <tr>\n",
              "      <th>2</th>\n",
              "      <td>5/19/2015</td>\n",
              "      <td>24:00:00</td>\n",
              "      <td>298.74</td>\n",
              "      <td>86.76</td>\n",
              "      <td>975.74</td>\n",
              "      <td>1.32</td>\n",
              "      <td>212.52</td>\n",
              "      <td>61.708716</td>\n",
              "      <td>1</td>\n",
              "    </tr>\n",
              "    <tr>\n",
              "      <th>3</th>\n",
              "      <td>5/21/2015</td>\n",
              "      <td>24:00:00</td>\n",
              "      <td>298.87</td>\n",
              "      <td>86.45</td>\n",
              "      <td>976.07</td>\n",
              "      <td>0.43</td>\n",
              "      <td>311.13</td>\n",
              "      <td>114.142248</td>\n",
              "      <td>1</td>\n",
              "    </tr>\n",
              "    <tr>\n",
              "      <th>4</th>\n",
              "      <td>6/14/2015</td>\n",
              "      <td>24:00:00</td>\n",
              "      <td>298.82</td>\n",
              "      <td>84.94</td>\n",
              "      <td>973.93</td>\n",
              "      <td>0.19</td>\n",
              "      <td>236.35</td>\n",
              "      <td>109.579824</td>\n",
              "      <td>1</td>\n",
              "    </tr>\n",
              "    <tr>\n",
              "      <th>...</th>\n",
              "      <td>...</td>\n",
              "      <td>...</td>\n",
              "      <td>...</td>\n",
              "      <td>...</td>\n",
              "      <td>...</td>\n",
              "      <td>...</td>\n",
              "      <td>...</td>\n",
              "      <td>...</td>\n",
              "      <td>...</td>\n",
              "    </tr>\n",
              "    <tr>\n",
              "      <th>95</th>\n",
              "      <td>8/5/2019</td>\n",
              "      <td>24:00:00</td>\n",
              "      <td>298.64</td>\n",
              "      <td>82.48</td>\n",
              "      <td>974.72</td>\n",
              "      <td>1.40</td>\n",
              "      <td>207.01</td>\n",
              "      <td>2.447867</td>\n",
              "      <td>0</td>\n",
              "    </tr>\n",
              "    <tr>\n",
              "      <th>96</th>\n",
              "      <td>8/20/2019</td>\n",
              "      <td>24:00:00</td>\n",
              "      <td>299.77</td>\n",
              "      <td>81.86</td>\n",
              "      <td>974.28</td>\n",
              "      <td>0.42</td>\n",
              "      <td>161.48</td>\n",
              "      <td>62.227584</td>\n",
              "      <td>1</td>\n",
              "    </tr>\n",
              "    <tr>\n",
              "      <th>97</th>\n",
              "      <td>8/21/2019</td>\n",
              "      <td>24:00:00</td>\n",
              "      <td>297.34</td>\n",
              "      <td>87.43</td>\n",
              "      <td>975.79</td>\n",
              "      <td>1.56</td>\n",
              "      <td>254.68</td>\n",
              "      <td>63.547956</td>\n",
              "      <td>1</td>\n",
              "    </tr>\n",
              "    <tr>\n",
              "      <th>98</th>\n",
              "      <td>8/22/2019</td>\n",
              "      <td>24:00:00</td>\n",
              "      <td>298.46</td>\n",
              "      <td>83.97</td>\n",
              "      <td>976.17</td>\n",
              "      <td>0.20</td>\n",
              "      <td>132.76</td>\n",
              "      <td>12.019698</td>\n",
              "      <td>0</td>\n",
              "    </tr>\n",
              "    <tr>\n",
              "      <th>99</th>\n",
              "      <td>8/23/2019</td>\n",
              "      <td>24:00:00</td>\n",
              "      <td>298.47</td>\n",
              "      <td>85.22</td>\n",
              "      <td>976.33</td>\n",
              "      <td>0.36</td>\n",
              "      <td>290.25</td>\n",
              "      <td>69.649776</td>\n",
              "      <td>1</td>\n",
              "    </tr>\n",
              "  </tbody>\n",
              "</table>\n",
              "<p>100 rows × 9 columns</p>\n",
              "</div>\n",
              "      <button class=\"colab-df-convert\" onclick=\"convertToInteractive('df-8ee1d334-e2c6-4329-b181-55d6b1893fc7')\"\n",
              "              title=\"Convert this dataframe to an interactive table.\"\n",
              "              style=\"display:none;\">\n",
              "        \n",
              "  <svg xmlns=\"http://www.w3.org/2000/svg\" height=\"24px\"viewBox=\"0 0 24 24\"\n",
              "       width=\"24px\">\n",
              "    <path d=\"M0 0h24v24H0V0z\" fill=\"none\"/>\n",
              "    <path d=\"M18.56 5.44l.94 2.06.94-2.06 2.06-.94-2.06-.94-.94-2.06-.94 2.06-2.06.94zm-11 1L8.5 8.5l.94-2.06 2.06-.94-2.06-.94L8.5 2.5l-.94 2.06-2.06.94zm10 10l.94 2.06.94-2.06 2.06-.94-2.06-.94-.94-2.06-.94 2.06-2.06.94z\"/><path d=\"M17.41 7.96l-1.37-1.37c-.4-.4-.92-.59-1.43-.59-.52 0-1.04.2-1.43.59L10.3 9.45l-7.72 7.72c-.78.78-.78 2.05 0 2.83L4 21.41c.39.39.9.59 1.41.59.51 0 1.02-.2 1.41-.59l7.78-7.78 2.81-2.81c.8-.78.8-2.07 0-2.86zM5.41 20L4 18.59l7.72-7.72 1.47 1.35L5.41 20z\"/>\n",
              "  </svg>\n",
              "      </button>\n",
              "      \n",
              "  <style>\n",
              "    .colab-df-container {\n",
              "      display:flex;\n",
              "      flex-wrap:wrap;\n",
              "      gap: 12px;\n",
              "    }\n",
              "\n",
              "    .colab-df-convert {\n",
              "      background-color: #E8F0FE;\n",
              "      border: none;\n",
              "      border-radius: 50%;\n",
              "      cursor: pointer;\n",
              "      display: none;\n",
              "      fill: #1967D2;\n",
              "      height: 32px;\n",
              "      padding: 0 0 0 0;\n",
              "      width: 32px;\n",
              "    }\n",
              "\n",
              "    .colab-df-convert:hover {\n",
              "      background-color: #E2EBFA;\n",
              "      box-shadow: 0px 1px 2px rgba(60, 64, 67, 0.3), 0px 1px 3px 1px rgba(60, 64, 67, 0.15);\n",
              "      fill: #174EA6;\n",
              "    }\n",
              "\n",
              "    [theme=dark] .colab-df-convert {\n",
              "      background-color: #3B4455;\n",
              "      fill: #D2E3FC;\n",
              "    }\n",
              "\n",
              "    [theme=dark] .colab-df-convert:hover {\n",
              "      background-color: #434B5C;\n",
              "      box-shadow: 0px 1px 3px 1px rgba(0, 0, 0, 0.15);\n",
              "      filter: drop-shadow(0px 1px 2px rgba(0, 0, 0, 0.3));\n",
              "      fill: #FFFFFF;\n",
              "    }\n",
              "  </style>\n",
              "\n",
              "      <script>\n",
              "        const buttonEl =\n",
              "          document.querySelector('#df-8ee1d334-e2c6-4329-b181-55d6b1893fc7 button.colab-df-convert');\n",
              "        buttonEl.style.display =\n",
              "          google.colab.kernel.accessAllowed ? 'block' : 'none';\n",
              "\n",
              "        async function convertToInteractive(key) {\n",
              "          const element = document.querySelector('#df-8ee1d334-e2c6-4329-b181-55d6b1893fc7');\n",
              "          const dataTable =\n",
              "            await google.colab.kernel.invokeFunction('convertToInteractive',\n",
              "                                                     [key], {});\n",
              "          if (!dataTable) return;\n",
              "\n",
              "          const docLinkHtml = 'Like what you see? Visit the ' +\n",
              "            '<a target=\"_blank\" href=https://colab.research.google.com/notebooks/data_table.ipynb>data table notebook</a>'\n",
              "            + ' to learn more about interactive tables.';\n",
              "          element.innerHTML = '';\n",
              "          dataTable['output_type'] = 'display_data';\n",
              "          await google.colab.output.renderOutput(dataTable, element);\n",
              "          const docLink = document.createElement('div');\n",
              "          docLink.innerHTML = docLinkHtml;\n",
              "          element.appendChild(docLink);\n",
              "        }\n",
              "      </script>\n",
              "    </div>\n",
              "  </div>\n",
              "  "
            ]
          },
          "metadata": {},
          "execution_count": 4
        }
      ]
    },
    {
      "cell_type": "markdown",
      "source": [
        "Data Preprocessing"
      ],
      "metadata": {
        "id": "dlI-NEFx9Und"
      }
    },
    {
      "cell_type": "code",
      "source": [
        "# Checking dataset data types\n",
        "weather.dtypes"
      ],
      "metadata": {
        "colab": {
          "base_uri": "https://localhost:8080/"
        },
        "id": "xnn6EeND8k5O",
        "outputId": "3289e606-3cd3-414d-8c07-f2ede981d59b"
      },
      "execution_count": null,
      "outputs": [
        {
          "output_type": "execute_result",
          "data": {
            "text/plain": [
              "Date                      object\n",
              "UT time                   object\n",
              "Temperature (K)          float64\n",
              "Relative Humidity (%)    float64\n",
              "Pressure (hPa)           float64\n",
              "Wind speed (m/s)         float64\n",
              "Wind direction           float64\n",
              "Rainfall (mm)            float64\n",
              "Flood                      int64\n",
              "dtype: object"
            ]
          },
          "metadata": {},
          "execution_count": 5
        }
      ]
    },
    {
      "cell_type": "code",
      "source": [
        "weather.shape"
      ],
      "metadata": {
        "colab": {
          "base_uri": "https://localhost:8080/"
        },
        "id": "dymPlAU99q0z",
        "outputId": "bffb7af1-78c0-4877-c2de-efddb3dde405"
      },
      "execution_count": null,
      "outputs": [
        {
          "output_type": "execute_result",
          "data": {
            "text/plain": [
              "(106, 9)"
            ]
          },
          "metadata": {},
          "execution_count": 6
        }
      ]
    },
    {
      "cell_type": "code",
      "source": [
        "# Checking dataset info\n",
        "weather.info()"
      ],
      "metadata": {
        "colab": {
          "base_uri": "https://localhost:8080/"
        },
        "id": "oDMjoNCw80fm",
        "outputId": "a466d86b-0f47-4d6d-d647-01fa254560fd"
      },
      "execution_count": null,
      "outputs": [
        {
          "output_type": "stream",
          "name": "stdout",
          "text": [
            "<class 'pandas.core.frame.DataFrame'>\n",
            "RangeIndex: 106 entries, 0 to 105\n",
            "Data columns (total 9 columns):\n",
            " #   Column                 Non-Null Count  Dtype  \n",
            "---  ------                 --------------  -----  \n",
            " 0   Date                   106 non-null    object \n",
            " 1   UT time                106 non-null    object \n",
            " 2   Temperature (K)        106 non-null    float64\n",
            " 3   Relative Humidity (%)  106 non-null    float64\n",
            " 4   Pressure (hPa)         106 non-null    float64\n",
            " 5   Wind speed (m/s)       106 non-null    float64\n",
            " 6   Wind direction         106 non-null    float64\n",
            " 7   Rainfall (mm)          106 non-null    float64\n",
            " 8   Flood                  106 non-null    int64  \n",
            "dtypes: float64(6), int64(1), object(2)\n",
            "memory usage: 7.6+ KB\n"
          ]
        }
      ]
    },
    {
      "cell_type": "code",
      "source": [
        "weather.describe()"
      ],
      "metadata": {
        "colab": {
          "base_uri": "https://localhost:8080/",
          "height": 300
        },
        "id": "Ums96M7A9PLU",
        "outputId": "aceb03f7-3cd8-42ac-c378-15812647618c"
      },
      "execution_count": null,
      "outputs": [
        {
          "output_type": "execute_result",
          "data": {
            "text/plain": [
              "       Temperature (K)  Relative Humidity (%)  Pressure (hPa)  \\\n",
              "count       106.000000             106.000000      106.000000   \n",
              "mean        298.589340              85.241509      975.475472   \n",
              "std           0.876973               4.311057        1.315303   \n",
              "min         296.620000              75.740000      971.930000   \n",
              "25%         297.985000              81.907500      974.467500   \n",
              "50%         298.685000              85.175000      975.625000   \n",
              "75%         299.220000              87.905000      976.220000   \n",
              "max         300.690000              94.160000      978.940000   \n",
              "\n",
              "       Wind speed (m/s)  Wind direction  Rainfall (mm)       Flood  \n",
              "count        106.000000      106.000000     106.000000  106.000000  \n",
              "mean           1.065283      158.877358      46.951045    0.500000  \n",
              "std            0.636821       93.319096      47.220590    0.502375  \n",
              "min            0.140000        6.160000       0.150296    0.000000  \n",
              "25%            0.592500       67.862500       3.721841    0.000000  \n",
              "50%            0.950000      151.220000      40.444260    0.500000  \n",
              "75%            1.400000      245.910000      80.660025    1.000000  \n",
              "max            3.250000      348.630000     192.352788    1.000000  "
            ],
            "text/html": [
              "\n",
              "  <div id=\"df-3953d09e-5d76-4d89-8366-dca7b535e7ca\">\n",
              "    <div class=\"colab-df-container\">\n",
              "      <div>\n",
              "<style scoped>\n",
              "    .dataframe tbody tr th:only-of-type {\n",
              "        vertical-align: middle;\n",
              "    }\n",
              "\n",
              "    .dataframe tbody tr th {\n",
              "        vertical-align: top;\n",
              "    }\n",
              "\n",
              "    .dataframe thead th {\n",
              "        text-align: right;\n",
              "    }\n",
              "</style>\n",
              "<table border=\"1\" class=\"dataframe\">\n",
              "  <thead>\n",
              "    <tr style=\"text-align: right;\">\n",
              "      <th></th>\n",
              "      <th>Temperature (K)</th>\n",
              "      <th>Relative Humidity (%)</th>\n",
              "      <th>Pressure (hPa)</th>\n",
              "      <th>Wind speed (m/s)</th>\n",
              "      <th>Wind direction</th>\n",
              "      <th>Rainfall (mm)</th>\n",
              "      <th>Flood</th>\n",
              "    </tr>\n",
              "  </thead>\n",
              "  <tbody>\n",
              "    <tr>\n",
              "      <th>count</th>\n",
              "      <td>106.000000</td>\n",
              "      <td>106.000000</td>\n",
              "      <td>106.000000</td>\n",
              "      <td>106.000000</td>\n",
              "      <td>106.000000</td>\n",
              "      <td>106.000000</td>\n",
              "      <td>106.000000</td>\n",
              "    </tr>\n",
              "    <tr>\n",
              "      <th>mean</th>\n",
              "      <td>298.589340</td>\n",
              "      <td>85.241509</td>\n",
              "      <td>975.475472</td>\n",
              "      <td>1.065283</td>\n",
              "      <td>158.877358</td>\n",
              "      <td>46.951045</td>\n",
              "      <td>0.500000</td>\n",
              "    </tr>\n",
              "    <tr>\n",
              "      <th>std</th>\n",
              "      <td>0.876973</td>\n",
              "      <td>4.311057</td>\n",
              "      <td>1.315303</td>\n",
              "      <td>0.636821</td>\n",
              "      <td>93.319096</td>\n",
              "      <td>47.220590</td>\n",
              "      <td>0.502375</td>\n",
              "    </tr>\n",
              "    <tr>\n",
              "      <th>min</th>\n",
              "      <td>296.620000</td>\n",
              "      <td>75.740000</td>\n",
              "      <td>971.930000</td>\n",
              "      <td>0.140000</td>\n",
              "      <td>6.160000</td>\n",
              "      <td>0.150296</td>\n",
              "      <td>0.000000</td>\n",
              "    </tr>\n",
              "    <tr>\n",
              "      <th>25%</th>\n",
              "      <td>297.985000</td>\n",
              "      <td>81.907500</td>\n",
              "      <td>974.467500</td>\n",
              "      <td>0.592500</td>\n",
              "      <td>67.862500</td>\n",
              "      <td>3.721841</td>\n",
              "      <td>0.000000</td>\n",
              "    </tr>\n",
              "    <tr>\n",
              "      <th>50%</th>\n",
              "      <td>298.685000</td>\n",
              "      <td>85.175000</td>\n",
              "      <td>975.625000</td>\n",
              "      <td>0.950000</td>\n",
              "      <td>151.220000</td>\n",
              "      <td>40.444260</td>\n",
              "      <td>0.500000</td>\n",
              "    </tr>\n",
              "    <tr>\n",
              "      <th>75%</th>\n",
              "      <td>299.220000</td>\n",
              "      <td>87.905000</td>\n",
              "      <td>976.220000</td>\n",
              "      <td>1.400000</td>\n",
              "      <td>245.910000</td>\n",
              "      <td>80.660025</td>\n",
              "      <td>1.000000</td>\n",
              "    </tr>\n",
              "    <tr>\n",
              "      <th>max</th>\n",
              "      <td>300.690000</td>\n",
              "      <td>94.160000</td>\n",
              "      <td>978.940000</td>\n",
              "      <td>3.250000</td>\n",
              "      <td>348.630000</td>\n",
              "      <td>192.352788</td>\n",
              "      <td>1.000000</td>\n",
              "    </tr>\n",
              "  </tbody>\n",
              "</table>\n",
              "</div>\n",
              "      <button class=\"colab-df-convert\" onclick=\"convertToInteractive('df-3953d09e-5d76-4d89-8366-dca7b535e7ca')\"\n",
              "              title=\"Convert this dataframe to an interactive table.\"\n",
              "              style=\"display:none;\">\n",
              "        \n",
              "  <svg xmlns=\"http://www.w3.org/2000/svg\" height=\"24px\"viewBox=\"0 0 24 24\"\n",
              "       width=\"24px\">\n",
              "    <path d=\"M0 0h24v24H0V0z\" fill=\"none\"/>\n",
              "    <path d=\"M18.56 5.44l.94 2.06.94-2.06 2.06-.94-2.06-.94-.94-2.06-.94 2.06-2.06.94zm-11 1L8.5 8.5l.94-2.06 2.06-.94-2.06-.94L8.5 2.5l-.94 2.06-2.06.94zm10 10l.94 2.06.94-2.06 2.06-.94-2.06-.94-.94-2.06-.94 2.06-2.06.94z\"/><path d=\"M17.41 7.96l-1.37-1.37c-.4-.4-.92-.59-1.43-.59-.52 0-1.04.2-1.43.59L10.3 9.45l-7.72 7.72c-.78.78-.78 2.05 0 2.83L4 21.41c.39.39.9.59 1.41.59.51 0 1.02-.2 1.41-.59l7.78-7.78 2.81-2.81c.8-.78.8-2.07 0-2.86zM5.41 20L4 18.59l7.72-7.72 1.47 1.35L5.41 20z\"/>\n",
              "  </svg>\n",
              "      </button>\n",
              "      \n",
              "  <style>\n",
              "    .colab-df-container {\n",
              "      display:flex;\n",
              "      flex-wrap:wrap;\n",
              "      gap: 12px;\n",
              "    }\n",
              "\n",
              "    .colab-df-convert {\n",
              "      background-color: #E8F0FE;\n",
              "      border: none;\n",
              "      border-radius: 50%;\n",
              "      cursor: pointer;\n",
              "      display: none;\n",
              "      fill: #1967D2;\n",
              "      height: 32px;\n",
              "      padding: 0 0 0 0;\n",
              "      width: 32px;\n",
              "    }\n",
              "\n",
              "    .colab-df-convert:hover {\n",
              "      background-color: #E2EBFA;\n",
              "      box-shadow: 0px 1px 2px rgba(60, 64, 67, 0.3), 0px 1px 3px 1px rgba(60, 64, 67, 0.15);\n",
              "      fill: #174EA6;\n",
              "    }\n",
              "\n",
              "    [theme=dark] .colab-df-convert {\n",
              "      background-color: #3B4455;\n",
              "      fill: #D2E3FC;\n",
              "    }\n",
              "\n",
              "    [theme=dark] .colab-df-convert:hover {\n",
              "      background-color: #434B5C;\n",
              "      box-shadow: 0px 1px 3px 1px rgba(0, 0, 0, 0.15);\n",
              "      filter: drop-shadow(0px 1px 2px rgba(0, 0, 0, 0.3));\n",
              "      fill: #FFFFFF;\n",
              "    }\n",
              "  </style>\n",
              "\n",
              "      <script>\n",
              "        const buttonEl =\n",
              "          document.querySelector('#df-3953d09e-5d76-4d89-8366-dca7b535e7ca button.colab-df-convert');\n",
              "        buttonEl.style.display =\n",
              "          google.colab.kernel.accessAllowed ? 'block' : 'none';\n",
              "\n",
              "        async function convertToInteractive(key) {\n",
              "          const element = document.querySelector('#df-3953d09e-5d76-4d89-8366-dca7b535e7ca');\n",
              "          const dataTable =\n",
              "            await google.colab.kernel.invokeFunction('convertToInteractive',\n",
              "                                                     [key], {});\n",
              "          if (!dataTable) return;\n",
              "\n",
              "          const docLinkHtml = 'Like what you see? Visit the ' +\n",
              "            '<a target=\"_blank\" href=https://colab.research.google.com/notebooks/data_table.ipynb>data table notebook</a>'\n",
              "            + ' to learn more about interactive tables.';\n",
              "          element.innerHTML = '';\n",
              "          dataTable['output_type'] = 'display_data';\n",
              "          await google.colab.output.renderOutput(dataTable, element);\n",
              "          const docLink = document.createElement('div');\n",
              "          docLink.innerHTML = docLinkHtml;\n",
              "          element.appendChild(docLink);\n",
              "        }\n",
              "      </script>\n",
              "    </div>\n",
              "  </div>\n",
              "  "
            ]
          },
          "metadata": {},
          "execution_count": 8
        }
      ]
    },
    {
      "cell_type": "code",
      "source": [
        "# Checking for null values in dataset\n",
        "weather.isnull().any()"
      ],
      "metadata": {
        "colab": {
          "base_uri": "https://localhost:8080/"
        },
        "id": "goFYlwzd9k4f",
        "outputId": "5fa5afef-0184-4245-834b-4c45cce78be0"
      },
      "execution_count": null,
      "outputs": [
        {
          "output_type": "execute_result",
          "data": {
            "text/plain": [
              "Date                     False\n",
              "UT time                  False\n",
              "Temperature (K)          False\n",
              "Relative Humidity (%)    False\n",
              "Pressure (hPa)           False\n",
              "Wind speed (m/s)         False\n",
              "Wind direction           False\n",
              "Rainfall (mm)            False\n",
              "Flood                    False\n",
              "dtype: bool"
            ]
          },
          "metadata": {},
          "execution_count": 9
        }
      ]
    },
    {
      "cell_type": "code",
      "source": [
        "# Checking dataset columns\n",
        "weather.columns"
      ],
      "metadata": {
        "colab": {
          "base_uri": "https://localhost:8080/"
        },
        "id": "Cq-I1Ru--H5L",
        "outputId": "06034e90-871f-4974-d946-f09dcd8fc943"
      },
      "execution_count": null,
      "outputs": [
        {
          "output_type": "execute_result",
          "data": {
            "text/plain": [
              "Index(['Date', 'UT time', 'Temperature (K)', 'Relative Humidity (%)',\n",
              "       'Pressure (hPa)', 'Wind speed (m/s)', 'Wind direction', 'Rainfall (mm)',\n",
              "       'Flood'],\n",
              "      dtype='object')"
            ]
          },
          "metadata": {},
          "execution_count": 10
        }
      ]
    },
    {
      "cell_type": "code",
      "source": [
        "# Removing rows with null values\n",
        "weather.dropna().isnull().sum()"
      ],
      "metadata": {
        "colab": {
          "base_uri": "https://localhost:8080/"
        },
        "id": "TRfJWebh-QzU",
        "outputId": "62766b85-f25b-4354-ce11-cf1045d6ad48"
      },
      "execution_count": null,
      "outputs": [
        {
          "output_type": "execute_result",
          "data": {
            "text/plain": [
              "Date                     0\n",
              "UT time                  0\n",
              "Temperature (K)          0\n",
              "Relative Humidity (%)    0\n",
              "Pressure (hPa)           0\n",
              "Wind speed (m/s)         0\n",
              "Wind direction           0\n",
              "Rainfall (mm)            0\n",
              "Flood                    0\n",
              "dtype: int64"
            ]
          },
          "metadata": {},
          "execution_count": 11
        }
      ]
    },
    {
      "cell_type": "markdown",
      "source": [
        "Data Training"
      ],
      "metadata": {
        "id": "HZfBoyM7-6Wc"
      }
    },
    {
      "cell_type": "code",
      "source": [
        "# Plotting Rainfall on Chart\n",
        "\n",
        "# Plot rainfall\n",
        "fig = go.Figure()\n",
        "fig.add_trace(go.Scatter(x=weather['Date'], \n",
        "                         y=weather['Rainfall (mm)'],\n",
        "                         mode='lines',\n",
        "                         name='Rainfall',\n",
        "                         opacity=0.8,\n",
        "                         line=dict(color='black', width=1)\n",
        "                        ))\n",
        "\n",
        "# Change chart background color\n",
        "fig.update_layout(dict(plot_bgcolor = 'white'))\n",
        "\n",
        "# Update axes lines\n",
        "fig.update_xaxes(showgrid=True, gridwidth=1, gridcolor='lightgrey', \n",
        "                 zeroline=True, zerolinewidth=1, zerolinecolor='lightgrey', \n",
        "                 showline=True, linewidth=1, linecolor='black',\n",
        "                 title='Date'\n",
        "                )\n",
        "\n",
        "fig.update_yaxes(showgrid=True, gridwidth=1, gridcolor='lightgrey', \n",
        "                 zeroline=True, zerolinewidth=1, zerolinecolor='lightgrey', \n",
        "                 showline=True, linewidth=1, linecolor='black',\n",
        "                 title='mm'\n",
        "                )\n",
        "\n",
        "# Set title\n",
        "fig.update_layout(title=dict(text=\"Rainfall (mm)\", \n",
        "                             font=dict(color='black')))"
      ],
      "metadata": {
        "colab": {
          "base_uri": "https://localhost:8080/",
          "height": 542
        },
        "id": "ppeOhOeW_m6-",
        "outputId": "7c73f290-baec-4605-edbe-c4d8f6cba669"
      },
      "execution_count": null,
      "outputs": [
        {
          "output_type": "display_data",
          "data": {
            "text/html": [
              "<html>\n",
              "<head><meta charset=\"utf-8\" /></head>\n",
              "<body>\n",
              "    <div>            <script src=\"https://cdnjs.cloudflare.com/ajax/libs/mathjax/2.7.5/MathJax.js?config=TeX-AMS-MML_SVG\"></script><script type=\"text/javascript\">if (window.MathJax) {MathJax.Hub.Config({SVG: {font: \"STIX-Web\"}});}</script>                <script type=\"text/javascript\">window.PlotlyConfig = {MathJaxConfig: 'local'};</script>\n",
              "        <script src=\"https://cdn.plot.ly/plotly-2.8.3.min.js\"></script>                <div id=\"c55d538c-2e65-4eee-a23f-d4a366ac6039\" class=\"plotly-graph-div\" style=\"height:525px; width:100%;\"></div>            <script type=\"text/javascript\">                                    window.PLOTLYENV=window.PLOTLYENV || {};                                    if (document.getElementById(\"c55d538c-2e65-4eee-a23f-d4a366ac6039\")) {                    Plotly.newPlot(                        \"c55d538c-2e65-4eee-a23f-d4a366ac6039\",                        [{\"line\":{\"color\":\"black\",\"width\":1},\"mode\":\"lines\",\"name\":\"Rainfall\",\"opacity\":0.8,\"x\":[\"5/11/2015\",\"5/16/2015\",\"5/19/2015\",\"5/21/2015\",\"6/14/2015\",\"6/15/2015\",\"7/19/2015\",\"8/19/2015\",\"10/16/2015\",\"10/18/2015\",\"10/19/2015\",\"11/27/2015\",\"5/20/2016\",\"6/2/2016\",\"7/18/2016\",\"7/19/2016\",\"8/30/2016\",\"12/1/2016\",\"12/3/2016\",\"4/4/2017\",\"5/11/2017\",\"5/13/2017\",\"5/23/2017\",\"7/2/2017\",\"7/4/2017\",\"7/10/2017\",\"9/17/2017\",\"9/29/2017\",\"11/2/2017\",\"11/3/2017\",\"11/4/2017\",\"11/7/2017\",\"11/11/2017\",\"11/29/2017\",\"11/30/2017\",\"4/25/2018\",\"4/26/2018\",\"4/29/2018\",\"5/25/2018\",\"5/29/2018\",\"5/31/2018\",\"6/4/2018\",\"6/10/2018\",\"7/19/2018\",\"7/28/2018\",\"7/29/2018\",\"8/6/2018\",\"8/7/2018\",\"8/8/2018\",\"8/10/2018\",\"8/12/2018\",\"8/22/2018\",\"9/12/2018\",\"9/15/2018\",\"10/21/2018\",\"10/23/2018\",\"11/6/2018\",\"11/9/2018\",\"11/16/2018\",\"11/20/2018\",\"11/21/2018\",\"11/23/2018\",\"12/9/2018\",\"12/12/2018\",\"12/17/2018\",\"1/9/2019\",\"1/11/2019\",\"2/2/2019\",\"2/4/2019\",\"2/6/2019\",\"3/6/2019\",\"3/7/2019\",\"3/8/2019\",\"3/11/2019\",\"3/29/2019\",\"3/31/2019\",\"4/3/2019\",\"4/5/2019\",\"4/6/2019\",\"4/8/2019\",\"4/29/2019\",\"5/7/2019\",\"5/8/2019\",\"5/9/2019\",\"5/11/2019\",\"5/15/2019\",\"6/8/2019\",\"6/15/2019\",\"6/16/2019\",\"6/17/2019\",\"6/19/2019\",\"7/1/2019\",\"7/4/2019\",\"8/3/2019\",\"8/4/2019\",\"8/5/2019\",\"8/20/2019\",\"8/21/2019\",\"8/22/2019\",\"8/23/2019\",\"8/25/2019\",\"8/27/2019\",\"9/17/2019\",\"9/19/2019\",\"10/3/2019\",\"10/31/2019\"],\"y\":[74.5911,62.907876,61.708716,114.142248,109.579824,84.943116,73.244448,77.0445,60.085332,62.911656,104.177736,62.463888,78.942636,77.418324,90.282492,85.752756,73.896228,65.118276,61.321788,81.395532,138.27114,62.653248,60.341544,127.701072,90.25884,95.740452,67.414356,71.724132,146.71116,90.807732,127.732824,192.352788,65.7612,124.717536,132.321816,89.481348,89.003916,124.4727,2.845133,10.560056,81.232488,1.499788,4.735951,2.808835,69.63444,60.006888,3.493029,8.349534,5.041116,3.151418,3.287646,62.01864,20.881631,8.473831,4.551527,5.818723,7.193142,11.123874,5.261101,2.568064,6.48203,0.231283,5.04544,15.469092,101.3904,8.195533,1.974569,7.464492,1.199212,0.357028,0.200186,0.150296,0.198854,0.650934,130.512492,72.112752,1.461351,0.17084,0.227582,0.316118,89.446788,2.701445,5.077116,4.400798,3.552455,76.34088,119.186568,5.197918,6.368587,5.733659,1.507145,2.426385,1.224003,4.23,1.727124,2.447867,62.227584,63.547956,12.019698,69.649776,5.006196,1.543821,6.100092,6.704989,124.08984,96.608484],\"type\":\"scatter\"}],                        {\"template\":{\"data\":{\"bar\":[{\"error_x\":{\"color\":\"#2a3f5f\"},\"error_y\":{\"color\":\"#2a3f5f\"},\"marker\":{\"line\":{\"color\":\"#E5ECF6\",\"width\":0.5},\"pattern\":{\"fillmode\":\"overlay\",\"size\":10,\"solidity\":0.2}},\"type\":\"bar\"}],\"barpolar\":[{\"marker\":{\"line\":{\"color\":\"#E5ECF6\",\"width\":0.5},\"pattern\":{\"fillmode\":\"overlay\",\"size\":10,\"solidity\":0.2}},\"type\":\"barpolar\"}],\"carpet\":[{\"aaxis\":{\"endlinecolor\":\"#2a3f5f\",\"gridcolor\":\"white\",\"linecolor\":\"white\",\"minorgridcolor\":\"white\",\"startlinecolor\":\"#2a3f5f\"},\"baxis\":{\"endlinecolor\":\"#2a3f5f\",\"gridcolor\":\"white\",\"linecolor\":\"white\",\"minorgridcolor\":\"white\",\"startlinecolor\":\"#2a3f5f\"},\"type\":\"carpet\"}],\"choropleth\":[{\"colorbar\":{\"outlinewidth\":0,\"ticks\":\"\"},\"type\":\"choropleth\"}],\"contour\":[{\"colorbar\":{\"outlinewidth\":0,\"ticks\":\"\"},\"colorscale\":[[0.0,\"#0d0887\"],[0.1111111111111111,\"#46039f\"],[0.2222222222222222,\"#7201a8\"],[0.3333333333333333,\"#9c179e\"],[0.4444444444444444,\"#bd3786\"],[0.5555555555555556,\"#d8576b\"],[0.6666666666666666,\"#ed7953\"],[0.7777777777777778,\"#fb9f3a\"],[0.8888888888888888,\"#fdca26\"],[1.0,\"#f0f921\"]],\"type\":\"contour\"}],\"contourcarpet\":[{\"colorbar\":{\"outlinewidth\":0,\"ticks\":\"\"},\"type\":\"contourcarpet\"}],\"heatmap\":[{\"colorbar\":{\"outlinewidth\":0,\"ticks\":\"\"},\"colorscale\":[[0.0,\"#0d0887\"],[0.1111111111111111,\"#46039f\"],[0.2222222222222222,\"#7201a8\"],[0.3333333333333333,\"#9c179e\"],[0.4444444444444444,\"#bd3786\"],[0.5555555555555556,\"#d8576b\"],[0.6666666666666666,\"#ed7953\"],[0.7777777777777778,\"#fb9f3a\"],[0.8888888888888888,\"#fdca26\"],[1.0,\"#f0f921\"]],\"type\":\"heatmap\"}],\"heatmapgl\":[{\"colorbar\":{\"outlinewidth\":0,\"ticks\":\"\"},\"colorscale\":[[0.0,\"#0d0887\"],[0.1111111111111111,\"#46039f\"],[0.2222222222222222,\"#7201a8\"],[0.3333333333333333,\"#9c179e\"],[0.4444444444444444,\"#bd3786\"],[0.5555555555555556,\"#d8576b\"],[0.6666666666666666,\"#ed7953\"],[0.7777777777777778,\"#fb9f3a\"],[0.8888888888888888,\"#fdca26\"],[1.0,\"#f0f921\"]],\"type\":\"heatmapgl\"}],\"histogram\":[{\"marker\":{\"pattern\":{\"fillmode\":\"overlay\",\"size\":10,\"solidity\":0.2}},\"type\":\"histogram\"}],\"histogram2d\":[{\"colorbar\":{\"outlinewidth\":0,\"ticks\":\"\"},\"colorscale\":[[0.0,\"#0d0887\"],[0.1111111111111111,\"#46039f\"],[0.2222222222222222,\"#7201a8\"],[0.3333333333333333,\"#9c179e\"],[0.4444444444444444,\"#bd3786\"],[0.5555555555555556,\"#d8576b\"],[0.6666666666666666,\"#ed7953\"],[0.7777777777777778,\"#fb9f3a\"],[0.8888888888888888,\"#fdca26\"],[1.0,\"#f0f921\"]],\"type\":\"histogram2d\"}],\"histogram2dcontour\":[{\"colorbar\":{\"outlinewidth\":0,\"ticks\":\"\"},\"colorscale\":[[0.0,\"#0d0887\"],[0.1111111111111111,\"#46039f\"],[0.2222222222222222,\"#7201a8\"],[0.3333333333333333,\"#9c179e\"],[0.4444444444444444,\"#bd3786\"],[0.5555555555555556,\"#d8576b\"],[0.6666666666666666,\"#ed7953\"],[0.7777777777777778,\"#fb9f3a\"],[0.8888888888888888,\"#fdca26\"],[1.0,\"#f0f921\"]],\"type\":\"histogram2dcontour\"}],\"mesh3d\":[{\"colorbar\":{\"outlinewidth\":0,\"ticks\":\"\"},\"type\":\"mesh3d\"}],\"parcoords\":[{\"line\":{\"colorbar\":{\"outlinewidth\":0,\"ticks\":\"\"}},\"type\":\"parcoords\"}],\"pie\":[{\"automargin\":true,\"type\":\"pie\"}],\"scatter\":[{\"marker\":{\"colorbar\":{\"outlinewidth\":0,\"ticks\":\"\"}},\"type\":\"scatter\"}],\"scatter3d\":[{\"line\":{\"colorbar\":{\"outlinewidth\":0,\"ticks\":\"\"}},\"marker\":{\"colorbar\":{\"outlinewidth\":0,\"ticks\":\"\"}},\"type\":\"scatter3d\"}],\"scattercarpet\":[{\"marker\":{\"colorbar\":{\"outlinewidth\":0,\"ticks\":\"\"}},\"type\":\"scattercarpet\"}],\"scattergeo\":[{\"marker\":{\"colorbar\":{\"outlinewidth\":0,\"ticks\":\"\"}},\"type\":\"scattergeo\"}],\"scattergl\":[{\"marker\":{\"colorbar\":{\"outlinewidth\":0,\"ticks\":\"\"}},\"type\":\"scattergl\"}],\"scattermapbox\":[{\"marker\":{\"colorbar\":{\"outlinewidth\":0,\"ticks\":\"\"}},\"type\":\"scattermapbox\"}],\"scatterpolar\":[{\"marker\":{\"colorbar\":{\"outlinewidth\":0,\"ticks\":\"\"}},\"type\":\"scatterpolar\"}],\"scatterpolargl\":[{\"marker\":{\"colorbar\":{\"outlinewidth\":0,\"ticks\":\"\"}},\"type\":\"scatterpolargl\"}],\"scatterternary\":[{\"marker\":{\"colorbar\":{\"outlinewidth\":0,\"ticks\":\"\"}},\"type\":\"scatterternary\"}],\"surface\":[{\"colorbar\":{\"outlinewidth\":0,\"ticks\":\"\"},\"colorscale\":[[0.0,\"#0d0887\"],[0.1111111111111111,\"#46039f\"],[0.2222222222222222,\"#7201a8\"],[0.3333333333333333,\"#9c179e\"],[0.4444444444444444,\"#bd3786\"],[0.5555555555555556,\"#d8576b\"],[0.6666666666666666,\"#ed7953\"],[0.7777777777777778,\"#fb9f3a\"],[0.8888888888888888,\"#fdca26\"],[1.0,\"#f0f921\"]],\"type\":\"surface\"}],\"table\":[{\"cells\":{\"fill\":{\"color\":\"#EBF0F8\"},\"line\":{\"color\":\"white\"}},\"header\":{\"fill\":{\"color\":\"#C8D4E3\"},\"line\":{\"color\":\"white\"}},\"type\":\"table\"}]},\"layout\":{\"annotationdefaults\":{\"arrowcolor\":\"#2a3f5f\",\"arrowhead\":0,\"arrowwidth\":1},\"autotypenumbers\":\"strict\",\"coloraxis\":{\"colorbar\":{\"outlinewidth\":0,\"ticks\":\"\"}},\"colorscale\":{\"diverging\":[[0,\"#8e0152\"],[0.1,\"#c51b7d\"],[0.2,\"#de77ae\"],[0.3,\"#f1b6da\"],[0.4,\"#fde0ef\"],[0.5,\"#f7f7f7\"],[0.6,\"#e6f5d0\"],[0.7,\"#b8e186\"],[0.8,\"#7fbc41\"],[0.9,\"#4d9221\"],[1,\"#276419\"]],\"sequential\":[[0.0,\"#0d0887\"],[0.1111111111111111,\"#46039f\"],[0.2222222222222222,\"#7201a8\"],[0.3333333333333333,\"#9c179e\"],[0.4444444444444444,\"#bd3786\"],[0.5555555555555556,\"#d8576b\"],[0.6666666666666666,\"#ed7953\"],[0.7777777777777778,\"#fb9f3a\"],[0.8888888888888888,\"#fdca26\"],[1.0,\"#f0f921\"]],\"sequentialminus\":[[0.0,\"#0d0887\"],[0.1111111111111111,\"#46039f\"],[0.2222222222222222,\"#7201a8\"],[0.3333333333333333,\"#9c179e\"],[0.4444444444444444,\"#bd3786\"],[0.5555555555555556,\"#d8576b\"],[0.6666666666666666,\"#ed7953\"],[0.7777777777777778,\"#fb9f3a\"],[0.8888888888888888,\"#fdca26\"],[1.0,\"#f0f921\"]]},\"colorway\":[\"#636efa\",\"#EF553B\",\"#00cc96\",\"#ab63fa\",\"#FFA15A\",\"#19d3f3\",\"#FF6692\",\"#B6E880\",\"#FF97FF\",\"#FECB52\"],\"font\":{\"color\":\"#2a3f5f\"},\"geo\":{\"bgcolor\":\"white\",\"lakecolor\":\"white\",\"landcolor\":\"#E5ECF6\",\"showlakes\":true,\"showland\":true,\"subunitcolor\":\"white\"},\"hoverlabel\":{\"align\":\"left\"},\"hovermode\":\"closest\",\"mapbox\":{\"style\":\"light\"},\"paper_bgcolor\":\"white\",\"plot_bgcolor\":\"#E5ECF6\",\"polar\":{\"angularaxis\":{\"gridcolor\":\"white\",\"linecolor\":\"white\",\"ticks\":\"\"},\"bgcolor\":\"#E5ECF6\",\"radialaxis\":{\"gridcolor\":\"white\",\"linecolor\":\"white\",\"ticks\":\"\"}},\"scene\":{\"xaxis\":{\"backgroundcolor\":\"#E5ECF6\",\"gridcolor\":\"white\",\"gridwidth\":2,\"linecolor\":\"white\",\"showbackground\":true,\"ticks\":\"\",\"zerolinecolor\":\"white\"},\"yaxis\":{\"backgroundcolor\":\"#E5ECF6\",\"gridcolor\":\"white\",\"gridwidth\":2,\"linecolor\":\"white\",\"showbackground\":true,\"ticks\":\"\",\"zerolinecolor\":\"white\"},\"zaxis\":{\"backgroundcolor\":\"#E5ECF6\",\"gridcolor\":\"white\",\"gridwidth\":2,\"linecolor\":\"white\",\"showbackground\":true,\"ticks\":\"\",\"zerolinecolor\":\"white\"}},\"shapedefaults\":{\"line\":{\"color\":\"#2a3f5f\"}},\"ternary\":{\"aaxis\":{\"gridcolor\":\"white\",\"linecolor\":\"white\",\"ticks\":\"\"},\"baxis\":{\"gridcolor\":\"white\",\"linecolor\":\"white\",\"ticks\":\"\"},\"bgcolor\":\"#E5ECF6\",\"caxis\":{\"gridcolor\":\"white\",\"linecolor\":\"white\",\"ticks\":\"\"}},\"title\":{\"x\":0.05},\"xaxis\":{\"automargin\":true,\"gridcolor\":\"white\",\"linecolor\":\"white\",\"ticks\":\"\",\"title\":{\"standoff\":15},\"zerolinecolor\":\"white\",\"zerolinewidth\":2},\"yaxis\":{\"automargin\":true,\"gridcolor\":\"white\",\"linecolor\":\"white\",\"ticks\":\"\",\"title\":{\"standoff\":15},\"zerolinecolor\":\"white\",\"zerolinewidth\":2}}},\"plot_bgcolor\":\"white\",\"xaxis\":{\"showgrid\":true,\"gridwidth\":1,\"gridcolor\":\"lightgrey\",\"zeroline\":true,\"zerolinewidth\":1,\"zerolinecolor\":\"lightgrey\",\"showline\":true,\"linewidth\":1,\"linecolor\":\"black\",\"title\":{\"text\":\"Date\"}},\"yaxis\":{\"showgrid\":true,\"gridwidth\":1,\"gridcolor\":\"lightgrey\",\"zeroline\":true,\"zerolinewidth\":1,\"zerolinecolor\":\"lightgrey\",\"showline\":true,\"linewidth\":1,\"linecolor\":\"black\",\"title\":{\"text\":\"mm\"}},\"title\":{\"font\":{\"color\":\"black\"},\"text\":\"Rainfall (mm)\"}},                        {\"responsive\": true}                    ).then(function(){\n",
              "                            \n",
              "var gd = document.getElementById('c55d538c-2e65-4eee-a23f-d4a366ac6039');\n",
              "var x = new MutationObserver(function (mutations, observer) {{\n",
              "        var display = window.getComputedStyle(gd).display;\n",
              "        if (!display || display === 'none') {{\n",
              "            console.log([gd, 'removed!']);\n",
              "            Plotly.purge(gd);\n",
              "            observer.disconnect();\n",
              "        }}\n",
              "}});\n",
              "\n",
              "// Listen for the removal of the full notebook cells\n",
              "var notebookContainer = gd.closest('#notebook-container');\n",
              "if (notebookContainer) {{\n",
              "    x.observe(notebookContainer, {childList: true});\n",
              "}}\n",
              "\n",
              "// Listen for the clearing of the current output cell\n",
              "var outputEl = gd.closest('.output');\n",
              "if (outputEl) {{\n",
              "    x.observe(outputEl, {childList: true});\n",
              "}}\n",
              "\n",
              "                        })                };                            </script>        </div>\n",
              "</body>\n",
              "</html>"
            ]
          },
          "metadata": {}
        }
      ]
    },
    {
      "cell_type": "markdown",
      "source": [
        "Training and Evaluating RNN"
      ],
      "metadata": {
        "id": "MDkpIjd3AE8P"
      }
    },
    {
      "cell_type": "code",
      "source": [
        "def prep_data(datain, time_step):\n",
        "    # Setting y-array\n",
        "    y_indices = np.arange(start=time_step, stop=len(datain), step=time_step)\n",
        "    # Creating y array based on the above indices \n",
        "    y_tmp = datain[y_indices]\n",
        "    \n",
        "    # Setting x-array \n",
        "    rows_X = len(y_tmp)\n",
        "    X_tmp = datain[range(time_step*rows_X)]\n",
        "\n",
        "    X_tmp = np.reshape(X_tmp, (rows_X, time_step, 1))\n",
        "    return X_tmp, y_tmp"
      ],
      "metadata": {
        "id": "yTGK1AhfA_KM"
      },
      "execution_count": null,
      "outputs": []
    },
    {
      "cell_type": "code",
      "source": [
        "\n",
        "# Selecting data for modeling and applying Min Max Scaling\n",
        "X=weather[['Rainfall (mm)']]\n",
        "scaler = MinMaxScaler()\n",
        "X_scaled=scaler.fit_transform(X)\n",
        "\n",
        "\n",
        "# Create training and testing samples\n",
        "train_data, test_data = train_test_split(X_scaled, test_size=0.2, shuffle=False)\n",
        "\n",
        "\n",
        "# Preparing input X and target y arrays using previously defined function\n",
        "time_step = 7\n",
        "X_train, y_train = prep_data(train_data, time_step)\n",
        "X_test, y_test = prep_data(test_data, time_step)\n",
        "\n",
        "\n",
        "# Specifying the structure of a Neural Network\n",
        "model = Sequential(name=\"Flood-Forecasting-RNN-Model\") \n",
        "model.add(Input(shape=(time_step,1), name='Input-Layer')) \n",
        "model.add(SimpleRNN(units=1, activation='tanh', name='Hidden-Recurrent-Layer')) \n",
        "model.add(Dense(units=1, activation='tanh', name='Hidden-Layer')) \n",
        "model.add(Dense(units=1, activation='linear', name='Output-Layer')) \n",
        "\n",
        "\n",
        "# Compiling keras model\n",
        "model.compile(optimizer='adam',\n",
        "              loss='mean_squared_error',\n",
        "              metrics=['MeanSquaredError', 'MeanAbsoluteError'], \n",
        "              loss_weights=None, \n",
        "              weighted_metrics=None, \n",
        "              run_eagerly=None, \n",
        "              steps_per_execution=None\n",
        "             )\n",
        "\n",
        "\n",
        "# Fiting keras model on the dataset\n",
        "model.fit(X_train,\n",
        "          y_train, \n",
        "          batch_size=1, \n",
        "          epochs=20, \n",
        "          verbose='auto', \n",
        "          callbacks=None,\n",
        "          validation_split=0.0, \n",
        "          shuffle=True, \n",
        "          class_weight=None,  \n",
        "          sample_weight=None, \n",
        "          initial_epoch=0, \n",
        "          steps_per_epoch=None,  \n",
        "          validation_steps=None, \n",
        "          validation_batch_size=None, \n",
        "          validation_freq=1, \n",
        "          max_queue_size=10, \n",
        "          workers=1, \n",
        "          use_multiprocessing=False, \n",
        "         )\n",
        "\n",
        "\n",
        "# Using model to generate predictions\n",
        "\n",
        "pred_train = model.predict(X_train)\n",
        "pred_test = model.predict(X_test)\n",
        "\n",
        "\n",
        "# Model Performance Summary\n",
        "print(\"\")\n",
        "print('-------------------- Model Summary --------------------')\n",
        "model.summary() # print model summary\n",
        "print(\"\")\n",
        "print('-------------------- Weights and Biases --------------------')\n",
        "print(\"Note, the last parameter in each layer is bias while the rest are weights\")\n",
        "print(\"\")\n",
        "for layer in model.layers:\n",
        "    print(layer.name)\n",
        "    for item in layer.get_weights():\n",
        "        print(\"  \", item)\n",
        "print(\"\")\n",
        "print('---------- Evaluation on Training Data ----------')\n",
        "print(\"MSE: \", mean_squared_error(y_train, pred_train))\n",
        "print(\"\")\n",
        "\n",
        "print('---------- Evaluation on Test Data ----------')\n",
        "print(\"MSE: \", mean_squared_error(y_test, pred_test))\n",
        "print(\"\")"
      ],
      "metadata": {
        "colab": {
          "base_uri": "https://localhost:8080/"
        },
        "id": "3Inq9cwLBqV2",
        "outputId": "b413709f-3b70-4dac-b8ea-63146921f6a7"
      },
      "execution_count": null,
      "outputs": [
        {
          "output_type": "stream",
          "name": "stdout",
          "text": [
            "Epoch 1/20\n",
            "11/11 [==============================] - 1s 3ms/step - loss: 0.0526 - mean_squared_error: 0.0526 - mean_absolute_error: 0.1824\n",
            "Epoch 2/20\n",
            "11/11 [==============================] - 0s 3ms/step - loss: 0.0484 - mean_squared_error: 0.0484 - mean_absolute_error: 0.1780    \n",
            "Epoch 3/20\n",
            "11/11 [==============================] - 0s 3ms/step - loss: 0.0449 - mean_squared_error: 0.0449 - mean_absolute_error: 0.1771\n",
            "Epoch 4/20\n",
            "11/11 [==============================] - 0s 3ms/step - loss: 0.0431 - mean_squared_error: 0.0431 - mean_absolute_error: 0.1759\n",
            "Epoch 5/20\n",
            "11/11 [==============================] - 0s 3ms/step - loss: 0.0417 - mean_squared_error: 0.0417 - mean_absolute_error: 0.1768\n",
            "Epoch 6/20\n",
            "11/11 [==============================] - 0s 3ms/step - loss: 0.0408 - mean_squared_error: 0.0408 - mean_absolute_error: 0.1781\n",
            "Epoch 7/20\n",
            "11/11 [==============================] - 0s 3ms/step - loss: 0.0404 - mean_squared_error: 0.0404 - mean_absolute_error: 0.1805\n",
            "Epoch 8/20\n",
            "11/11 [==============================] - 0s 3ms/step - loss: 0.0404 - mean_squared_error: 0.0404 - mean_absolute_error: 0.1822\n",
            "Epoch 9/20\n",
            "11/11 [==============================] - 0s 3ms/step - loss: 0.0402 - mean_squared_error: 0.0402 - mean_absolute_error: 0.1827\n",
            "Epoch 10/20\n",
            "11/11 [==============================] - 0s 3ms/step - loss: 0.0397 - mean_squared_error: 0.0397 - mean_absolute_error: 0.1822\n",
            "Epoch 11/20\n",
            "11/11 [==============================] - 0s 4ms/step - loss: 0.0397 - mean_squared_error: 0.0397 - mean_absolute_error: 0.1824\n",
            "Epoch 12/20\n",
            "11/11 [==============================] - 0s 3ms/step - loss: 0.0396 - mean_squared_error: 0.0396 - mean_absolute_error: 0.1824\n",
            "Epoch 13/20\n",
            "11/11 [==============================] - 0s 3ms/step - loss: 0.0395 - mean_squared_error: 0.0395 - mean_absolute_error: 0.1820\n",
            "Epoch 14/20\n",
            "11/11 [==============================] - 0s 3ms/step - loss: 0.0398 - mean_squared_error: 0.0398 - mean_absolute_error: 0.1825\n",
            "Epoch 15/20\n",
            "11/11 [==============================] - 0s 3ms/step - loss: 0.0396 - mean_squared_error: 0.0396 - mean_absolute_error: 0.1827\n",
            "Epoch 16/20\n",
            "11/11 [==============================] - 0s 4ms/step - loss: 0.0396 - mean_squared_error: 0.0396 - mean_absolute_error: 0.1833\n",
            "Epoch 17/20\n",
            "11/11 [==============================] - 0s 3ms/step - loss: 0.0394 - mean_squared_error: 0.0394 - mean_absolute_error: 0.1829\n",
            "Epoch 18/20\n",
            "11/11 [==============================] - 0s 4ms/step - loss: 0.0394 - mean_squared_error: 0.0394 - mean_absolute_error: 0.1832\n",
            "Epoch 19/20\n",
            "11/11 [==============================] - 0s 3ms/step - loss: 0.0394 - mean_squared_error: 0.0394 - mean_absolute_error: 0.1829\n",
            "Epoch 20/20\n",
            "11/11 [==============================] - 0s 3ms/step - loss: 0.0396 - mean_squared_error: 0.0396 - mean_absolute_error: 0.1834\n",
            "1/1 [==============================] - 0s 153ms/step\n",
            "1/1 [==============================] - 0s 17ms/step\n",
            "\n",
            "-------------------- Model Summary --------------------\n",
            "Model: \"Flood-Forecasting-RNN-Model\"\n",
            "_________________________________________________________________\n",
            " Layer (type)                Output Shape              Param #   \n",
            "=================================================================\n",
            " Hidden-Recurrent-Layer (Sim  (None, 1)                3         \n",
            " pleRNN)                                                         \n",
            "                                                                 \n",
            " Hidden-Layer (Dense)        (None, 1)                 2         \n",
            "                                                                 \n",
            " Output-Layer (Dense)        (None, 1)                 2         \n",
            "                                                                 \n",
            "=================================================================\n",
            "Total params: 7\n",
            "Trainable params: 7\n",
            "Non-trainable params: 0\n",
            "_________________________________________________________________\n",
            "\n",
            "-------------------- Weights and Biases --------------------\n",
            "Note, the last parameter in each layer is bias while the rest are weights\n",
            "\n",
            "Hidden-Recurrent-Layer\n",
            "   [[-0.37211525]]\n",
            "   [[-1.0048374]]\n",
            "   [-0.0276641]\n",
            "Hidden-Layer\n",
            "   [[1.6534411]]\n",
            "   [-0.03212617]\n",
            "Output-Layer\n",
            "   [[-0.91399795]]\n",
            "   [0.03455788]\n",
            "\n",
            "---------- Evaluation on Training Data ----------\n",
            "MSE:  0.03916135401451139\n",
            "\n",
            "---------- Evaluation on Test Data ----------\n",
            "MSE:  0.03116640917524947\n",
            "\n"
          ]
        }
      ]
    },
    {
      "cell_type": "markdown",
      "source": [
        "Plotting Actual and Predicted Rainfall on Chart"
      ],
      "metadata": {
        "id": "aOKqHrOUC9Bb"
      }
    },
    {
      "cell_type": "code",
      "source": [
        "fig = go.Figure()\n",
        "fig.add_trace(go.Scatter(x=np.array(range(0,len(y_test))),\n",
        "                         y=scaler.inverse_transform(y_test).flatten(),\n",
        "                         mode='lines',\n",
        "                         name='Rainfall - Actual (Test)',\n",
        "                         opacity=0.8,\n",
        "                         line=dict(color='black', width=1)\n",
        "                        ))\n",
        "fig.add_trace(go.Scatter(x=np.array(range(0,len(pred_test))),\n",
        "                         y=scaler.inverse_transform(pred_test).flatten(),\n",
        "                         mode='lines',\n",
        "                         name='Rainfall - Predicted (Test)',\n",
        "                         opacity=0.8,\n",
        "                         line=dict(color='red', width=1)\n",
        "                        ))\n",
        "\n",
        "# Change chart background color\n",
        "fig.update_layout(dict(plot_bgcolor = 'white'))\n",
        "\n",
        "# Update axes lines\n",
        "fig.update_xaxes(showgrid=True, gridwidth=1, gridcolor='lightgrey', \n",
        "                 zeroline=True, zerolinewidth=1, zerolinecolor='lightgrey', \n",
        "                 showline=True, linewidth=1, linecolor='black',\n",
        "                 title='Observation'\n",
        "                )\n",
        "\n",
        "fig.update_yaxes(showgrid=True, gridwidth=1, gridcolor='lightgrey', \n",
        "                 zeroline=True, zerolinewidth=1, zerolinecolor='lightgrey', \n",
        "                 showline=True, linewidth=1, linecolor='black',\n",
        "                 title='mm'\n",
        "                )\n",
        "\n",
        "# Set figure title\n",
        "fig.update_layout(title=dict(text=\"Rainfall (mm)\", \n",
        "                             font=dict(color='black')),\n",
        "                  legend=dict(orientation=\"h\", yanchor=\"bottom\", y=1.02, xanchor=\"right\", x=1)\n",
        "                 )\n",
        "\n",
        "fig.show()"
      ],
      "metadata": {
        "colab": {
          "base_uri": "https://localhost:8080/",
          "height": 542
        },
        "id": "2t3eathWDC44",
        "outputId": "8efea88f-8e98-40bb-f6e4-31306216ee27"
      },
      "execution_count": null,
      "outputs": [
        {
          "output_type": "display_data",
          "data": {
            "text/html": [
              "<html>\n",
              "<head><meta charset=\"utf-8\" /></head>\n",
              "<body>\n",
              "    <div>            <script src=\"https://cdnjs.cloudflare.com/ajax/libs/mathjax/2.7.5/MathJax.js?config=TeX-AMS-MML_SVG\"></script><script type=\"text/javascript\">if (window.MathJax) {MathJax.Hub.Config({SVG: {font: \"STIX-Web\"}});}</script>                <script type=\"text/javascript\">window.PlotlyConfig = {MathJaxConfig: 'local'};</script>\n",
              "        <script src=\"https://cdn.plot.ly/plotly-2.8.3.min.js\"></script>                <div id=\"219c74f6-562d-4b6a-8160-fa5354858f3e\" class=\"plotly-graph-div\" style=\"height:525px; width:100%;\"></div>            <script type=\"text/javascript\">                                    window.PLOTLYENV=window.PLOTLYENV || {};                                    if (document.getElementById(\"219c74f6-562d-4b6a-8160-fa5354858f3e\")) {                    Plotly.newPlot(                        \"219c74f6-562d-4b6a-8160-fa5354858f3e\",                        [{\"line\":{\"color\":\"black\",\"width\":1},\"mode\":\"lines\",\"name\":\"Rainfall - Actual (Test)\",\"opacity\":0.8,\"x\":[0,1,2],\"y\":[2.426385,12.019697999999998,96.608484],\"type\":\"scatter\"},{\"line\":{\"color\":\"red\",\"width\":1},\"mode\":\"lines\",\"name\":\"Rainfall - Predicted (Test)\",\"opacity\":0.8,\"x\":[0,1,2],\"y\":[44.2886962890625,24.644514083862305,57.33774948120117],\"type\":\"scatter\"}],                        {\"template\":{\"data\":{\"bar\":[{\"error_x\":{\"color\":\"#2a3f5f\"},\"error_y\":{\"color\":\"#2a3f5f\"},\"marker\":{\"line\":{\"color\":\"#E5ECF6\",\"width\":0.5},\"pattern\":{\"fillmode\":\"overlay\",\"size\":10,\"solidity\":0.2}},\"type\":\"bar\"}],\"barpolar\":[{\"marker\":{\"line\":{\"color\":\"#E5ECF6\",\"width\":0.5},\"pattern\":{\"fillmode\":\"overlay\",\"size\":10,\"solidity\":0.2}},\"type\":\"barpolar\"}],\"carpet\":[{\"aaxis\":{\"endlinecolor\":\"#2a3f5f\",\"gridcolor\":\"white\",\"linecolor\":\"white\",\"minorgridcolor\":\"white\",\"startlinecolor\":\"#2a3f5f\"},\"baxis\":{\"endlinecolor\":\"#2a3f5f\",\"gridcolor\":\"white\",\"linecolor\":\"white\",\"minorgridcolor\":\"white\",\"startlinecolor\":\"#2a3f5f\"},\"type\":\"carpet\"}],\"choropleth\":[{\"colorbar\":{\"outlinewidth\":0,\"ticks\":\"\"},\"type\":\"choropleth\"}],\"contour\":[{\"colorbar\":{\"outlinewidth\":0,\"ticks\":\"\"},\"colorscale\":[[0.0,\"#0d0887\"],[0.1111111111111111,\"#46039f\"],[0.2222222222222222,\"#7201a8\"],[0.3333333333333333,\"#9c179e\"],[0.4444444444444444,\"#bd3786\"],[0.5555555555555556,\"#d8576b\"],[0.6666666666666666,\"#ed7953\"],[0.7777777777777778,\"#fb9f3a\"],[0.8888888888888888,\"#fdca26\"],[1.0,\"#f0f921\"]],\"type\":\"contour\"}],\"contourcarpet\":[{\"colorbar\":{\"outlinewidth\":0,\"ticks\":\"\"},\"type\":\"contourcarpet\"}],\"heatmap\":[{\"colorbar\":{\"outlinewidth\":0,\"ticks\":\"\"},\"colorscale\":[[0.0,\"#0d0887\"],[0.1111111111111111,\"#46039f\"],[0.2222222222222222,\"#7201a8\"],[0.3333333333333333,\"#9c179e\"],[0.4444444444444444,\"#bd3786\"],[0.5555555555555556,\"#d8576b\"],[0.6666666666666666,\"#ed7953\"],[0.7777777777777778,\"#fb9f3a\"],[0.8888888888888888,\"#fdca26\"],[1.0,\"#f0f921\"]],\"type\":\"heatmap\"}],\"heatmapgl\":[{\"colorbar\":{\"outlinewidth\":0,\"ticks\":\"\"},\"colorscale\":[[0.0,\"#0d0887\"],[0.1111111111111111,\"#46039f\"],[0.2222222222222222,\"#7201a8\"],[0.3333333333333333,\"#9c179e\"],[0.4444444444444444,\"#bd3786\"],[0.5555555555555556,\"#d8576b\"],[0.6666666666666666,\"#ed7953\"],[0.7777777777777778,\"#fb9f3a\"],[0.8888888888888888,\"#fdca26\"],[1.0,\"#f0f921\"]],\"type\":\"heatmapgl\"}],\"histogram\":[{\"marker\":{\"pattern\":{\"fillmode\":\"overlay\",\"size\":10,\"solidity\":0.2}},\"type\":\"histogram\"}],\"histogram2d\":[{\"colorbar\":{\"outlinewidth\":0,\"ticks\":\"\"},\"colorscale\":[[0.0,\"#0d0887\"],[0.1111111111111111,\"#46039f\"],[0.2222222222222222,\"#7201a8\"],[0.3333333333333333,\"#9c179e\"],[0.4444444444444444,\"#bd3786\"],[0.5555555555555556,\"#d8576b\"],[0.6666666666666666,\"#ed7953\"],[0.7777777777777778,\"#fb9f3a\"],[0.8888888888888888,\"#fdca26\"],[1.0,\"#f0f921\"]],\"type\":\"histogram2d\"}],\"histogram2dcontour\":[{\"colorbar\":{\"outlinewidth\":0,\"ticks\":\"\"},\"colorscale\":[[0.0,\"#0d0887\"],[0.1111111111111111,\"#46039f\"],[0.2222222222222222,\"#7201a8\"],[0.3333333333333333,\"#9c179e\"],[0.4444444444444444,\"#bd3786\"],[0.5555555555555556,\"#d8576b\"],[0.6666666666666666,\"#ed7953\"],[0.7777777777777778,\"#fb9f3a\"],[0.8888888888888888,\"#fdca26\"],[1.0,\"#f0f921\"]],\"type\":\"histogram2dcontour\"}],\"mesh3d\":[{\"colorbar\":{\"outlinewidth\":0,\"ticks\":\"\"},\"type\":\"mesh3d\"}],\"parcoords\":[{\"line\":{\"colorbar\":{\"outlinewidth\":0,\"ticks\":\"\"}},\"type\":\"parcoords\"}],\"pie\":[{\"automargin\":true,\"type\":\"pie\"}],\"scatter\":[{\"marker\":{\"colorbar\":{\"outlinewidth\":0,\"ticks\":\"\"}},\"type\":\"scatter\"}],\"scatter3d\":[{\"line\":{\"colorbar\":{\"outlinewidth\":0,\"ticks\":\"\"}},\"marker\":{\"colorbar\":{\"outlinewidth\":0,\"ticks\":\"\"}},\"type\":\"scatter3d\"}],\"scattercarpet\":[{\"marker\":{\"colorbar\":{\"outlinewidth\":0,\"ticks\":\"\"}},\"type\":\"scattercarpet\"}],\"scattergeo\":[{\"marker\":{\"colorbar\":{\"outlinewidth\":0,\"ticks\":\"\"}},\"type\":\"scattergeo\"}],\"scattergl\":[{\"marker\":{\"colorbar\":{\"outlinewidth\":0,\"ticks\":\"\"}},\"type\":\"scattergl\"}],\"scattermapbox\":[{\"marker\":{\"colorbar\":{\"outlinewidth\":0,\"ticks\":\"\"}},\"type\":\"scattermapbox\"}],\"scatterpolar\":[{\"marker\":{\"colorbar\":{\"outlinewidth\":0,\"ticks\":\"\"}},\"type\":\"scatterpolar\"}],\"scatterpolargl\":[{\"marker\":{\"colorbar\":{\"outlinewidth\":0,\"ticks\":\"\"}},\"type\":\"scatterpolargl\"}],\"scatterternary\":[{\"marker\":{\"colorbar\":{\"outlinewidth\":0,\"ticks\":\"\"}},\"type\":\"scatterternary\"}],\"surface\":[{\"colorbar\":{\"outlinewidth\":0,\"ticks\":\"\"},\"colorscale\":[[0.0,\"#0d0887\"],[0.1111111111111111,\"#46039f\"],[0.2222222222222222,\"#7201a8\"],[0.3333333333333333,\"#9c179e\"],[0.4444444444444444,\"#bd3786\"],[0.5555555555555556,\"#d8576b\"],[0.6666666666666666,\"#ed7953\"],[0.7777777777777778,\"#fb9f3a\"],[0.8888888888888888,\"#fdca26\"],[1.0,\"#f0f921\"]],\"type\":\"surface\"}],\"table\":[{\"cells\":{\"fill\":{\"color\":\"#EBF0F8\"},\"line\":{\"color\":\"white\"}},\"header\":{\"fill\":{\"color\":\"#C8D4E3\"},\"line\":{\"color\":\"white\"}},\"type\":\"table\"}]},\"layout\":{\"annotationdefaults\":{\"arrowcolor\":\"#2a3f5f\",\"arrowhead\":0,\"arrowwidth\":1},\"autotypenumbers\":\"strict\",\"coloraxis\":{\"colorbar\":{\"outlinewidth\":0,\"ticks\":\"\"}},\"colorscale\":{\"diverging\":[[0,\"#8e0152\"],[0.1,\"#c51b7d\"],[0.2,\"#de77ae\"],[0.3,\"#f1b6da\"],[0.4,\"#fde0ef\"],[0.5,\"#f7f7f7\"],[0.6,\"#e6f5d0\"],[0.7,\"#b8e186\"],[0.8,\"#7fbc41\"],[0.9,\"#4d9221\"],[1,\"#276419\"]],\"sequential\":[[0.0,\"#0d0887\"],[0.1111111111111111,\"#46039f\"],[0.2222222222222222,\"#7201a8\"],[0.3333333333333333,\"#9c179e\"],[0.4444444444444444,\"#bd3786\"],[0.5555555555555556,\"#d8576b\"],[0.6666666666666666,\"#ed7953\"],[0.7777777777777778,\"#fb9f3a\"],[0.8888888888888888,\"#fdca26\"],[1.0,\"#f0f921\"]],\"sequentialminus\":[[0.0,\"#0d0887\"],[0.1111111111111111,\"#46039f\"],[0.2222222222222222,\"#7201a8\"],[0.3333333333333333,\"#9c179e\"],[0.4444444444444444,\"#bd3786\"],[0.5555555555555556,\"#d8576b\"],[0.6666666666666666,\"#ed7953\"],[0.7777777777777778,\"#fb9f3a\"],[0.8888888888888888,\"#fdca26\"],[1.0,\"#f0f921\"]]},\"colorway\":[\"#636efa\",\"#EF553B\",\"#00cc96\",\"#ab63fa\",\"#FFA15A\",\"#19d3f3\",\"#FF6692\",\"#B6E880\",\"#FF97FF\",\"#FECB52\"],\"font\":{\"color\":\"#2a3f5f\"},\"geo\":{\"bgcolor\":\"white\",\"lakecolor\":\"white\",\"landcolor\":\"#E5ECF6\",\"showlakes\":true,\"showland\":true,\"subunitcolor\":\"white\"},\"hoverlabel\":{\"align\":\"left\"},\"hovermode\":\"closest\",\"mapbox\":{\"style\":\"light\"},\"paper_bgcolor\":\"white\",\"plot_bgcolor\":\"#E5ECF6\",\"polar\":{\"angularaxis\":{\"gridcolor\":\"white\",\"linecolor\":\"white\",\"ticks\":\"\"},\"bgcolor\":\"#E5ECF6\",\"radialaxis\":{\"gridcolor\":\"white\",\"linecolor\":\"white\",\"ticks\":\"\"}},\"scene\":{\"xaxis\":{\"backgroundcolor\":\"#E5ECF6\",\"gridcolor\":\"white\",\"gridwidth\":2,\"linecolor\":\"white\",\"showbackground\":true,\"ticks\":\"\",\"zerolinecolor\":\"white\"},\"yaxis\":{\"backgroundcolor\":\"#E5ECF6\",\"gridcolor\":\"white\",\"gridwidth\":2,\"linecolor\":\"white\",\"showbackground\":true,\"ticks\":\"\",\"zerolinecolor\":\"white\"},\"zaxis\":{\"backgroundcolor\":\"#E5ECF6\",\"gridcolor\":\"white\",\"gridwidth\":2,\"linecolor\":\"white\",\"showbackground\":true,\"ticks\":\"\",\"zerolinecolor\":\"white\"}},\"shapedefaults\":{\"line\":{\"color\":\"#2a3f5f\"}},\"ternary\":{\"aaxis\":{\"gridcolor\":\"white\",\"linecolor\":\"white\",\"ticks\":\"\"},\"baxis\":{\"gridcolor\":\"white\",\"linecolor\":\"white\",\"ticks\":\"\"},\"bgcolor\":\"#E5ECF6\",\"caxis\":{\"gridcolor\":\"white\",\"linecolor\":\"white\",\"ticks\":\"\"}},\"title\":{\"x\":0.05},\"xaxis\":{\"automargin\":true,\"gridcolor\":\"white\",\"linecolor\":\"white\",\"ticks\":\"\",\"title\":{\"standoff\":15},\"zerolinecolor\":\"white\",\"zerolinewidth\":2},\"yaxis\":{\"automargin\":true,\"gridcolor\":\"white\",\"linecolor\":\"white\",\"ticks\":\"\",\"title\":{\"standoff\":15},\"zerolinecolor\":\"white\",\"zerolinewidth\":2}}},\"plot_bgcolor\":\"white\",\"xaxis\":{\"showgrid\":true,\"gridwidth\":1,\"gridcolor\":\"lightgrey\",\"zeroline\":true,\"zerolinewidth\":1,\"zerolinecolor\":\"lightgrey\",\"showline\":true,\"linewidth\":1,\"linecolor\":\"black\",\"title\":{\"text\":\"Observation\"}},\"yaxis\":{\"showgrid\":true,\"gridwidth\":1,\"gridcolor\":\"lightgrey\",\"zeroline\":true,\"zerolinewidth\":1,\"zerolinecolor\":\"lightgrey\",\"showline\":true,\"linewidth\":1,\"linecolor\":\"black\",\"title\":{\"text\":\"mm\"}},\"title\":{\"font\":{\"color\":\"black\"},\"text\":\"Rainfall (mm)\"},\"legend\":{\"orientation\":\"h\",\"yanchor\":\"bottom\",\"y\":1.02,\"xanchor\":\"right\",\"x\":1}},                        {\"responsive\": true}                    ).then(function(){\n",
              "                            \n",
              "var gd = document.getElementById('219c74f6-562d-4b6a-8160-fa5354858f3e');\n",
              "var x = new MutationObserver(function (mutations, observer) {{\n",
              "        var display = window.getComputedStyle(gd).display;\n",
              "        if (!display || display === 'none') {{\n",
              "            console.log([gd, 'removed!']);\n",
              "            Plotly.purge(gd);\n",
              "            observer.disconnect();\n",
              "        }}\n",
              "}});\n",
              "\n",
              "// Listen for the removal of the full notebook cells\n",
              "var notebookContainer = gd.closest('#notebook-container');\n",
              "if (notebookContainer) {{\n",
              "    x.observe(notebookContainer, {childList: true});\n",
              "}}\n",
              "\n",
              "// Listen for the clearing of the current output cell\n",
              "var outputEl = gd.closest('.output');\n",
              "if (outputEl) {{\n",
              "    x.observe(outputEl, {childList: true});\n",
              "}}\n",
              "\n",
              "                        })                };                            </script>        </div>\n",
              "</body>\n",
              "</html>"
            ]
          },
          "metadata": {}
        }
      ]
    },
    {
      "cell_type": "markdown",
      "source": [
        "Model Prediction"
      ],
      "metadata": {
        "id": "3eDzTti1Dhqb"
      }
    },
    {
      "cell_type": "code",
      "source": [
        "X_every=weather[['Rainfall (mm)']]\n",
        "X_every=scaler.transform(X_every)\n",
        "\n",
        "for i in range(0, len(X_every)-time_step):\n",
        "    if i==0:\n",
        "        X_comb=X_every[i:i+time_step]\n",
        "    else: \n",
        "        X_comb=np.append(X_comb, X_every[i:i+time_step])\n",
        "X_comb=np.reshape(X_comb, (math.floor(len(X_comb)/time_step), time_step, 1))\n",
        "print(X_comb.shape)\n",
        "\n",
        "weather['Flood_prediction'] = np.append(np.zeros(time_step), scaler.inverse_transform(model.predict(X_comb)))"
      ],
      "metadata": {
        "colab": {
          "base_uri": "https://localhost:8080/"
        },
        "id": "9tkL4xKRDk-b",
        "outputId": "03d5351f-c3a9-4c8a-e5f5-696d17a3175a"
      },
      "execution_count": null,
      "outputs": [
        {
          "output_type": "stream",
          "name": "stdout",
          "text": [
            "(99, 7, 1)\n",
            "4/4 [==============================] - 0s 3ms/step\n"
          ]
        }
      ]
    },
    {
      "cell_type": "markdown",
      "source": [
        "Plotting Prediction Results"
      ],
      "metadata": {
        "id": "3rudsaasD53U"
      }
    },
    {
      "cell_type": "code",
      "source": [
        "fig = go.Figure()\n",
        "fig.add_trace(go.Scatter(x=weather['Date'],\n",
        "                         y=weather['Rainfall (mm)'],\n",
        "                         mode='lines',\n",
        "                         name='Rainfall - Actual',\n",
        "                         opacity=0.8,\n",
        "                         line=dict(color='black', width=1)\n",
        "                        ))\n",
        "fig.add_trace(go.Scatter(x=weather['Date'],\n",
        "                         y=weather['Flood_prediction'],\n",
        "                         mode='lines',\n",
        "                         name='Rainfall - Predicted',\n",
        "                         opacity=0.8,\n",
        "                         line=dict(color='red', width=1)\n",
        "                        ))\n",
        "\n",
        "# Changing chart background color\n",
        "fig.update_layout(dict(plot_bgcolor = 'white'))\n",
        "\n",
        "# Updating axes lines\n",
        "fig.update_xaxes(showgrid=True, gridwidth=1, gridcolor='lightgrey', \n",
        "                 zeroline=True, zerolinewidth=1, zerolinecolor='lightgrey', \n",
        "                 showline=True, linewidth=1, linecolor='black',\n",
        "                 title='Observation'\n",
        "                )\n",
        "\n",
        "fig.update_yaxes(showgrid=True, gridwidth=1, gridcolor='lightgrey', \n",
        "                 zeroline=True, zerolinewidth=1, zerolinecolor='lightgrey', \n",
        "                 showline=True, linewidth=1, linecolor='black',\n",
        "                 title='mm'\n",
        "                )\n",
        "\n",
        "# Setting figure title\n",
        "fig.update_layout(title=dict(text=\"Rainfall (mm)\", \n",
        "                             font=dict(color='black')),\n",
        "                  legend=dict(orientation=\"h\", yanchor=\"bottom\", y=1.02, xanchor=\"right\", x=1)\n",
        "                 )\n",
        "\n",
        "fig.show()"
      ],
      "metadata": {
        "colab": {
          "base_uri": "https://localhost:8080/",
          "height": 542
        },
        "id": "TnHaCIPWEBj-",
        "outputId": "2d55c1e9-433b-46cc-d223-1e6ee21b25df"
      },
      "execution_count": null,
      "outputs": [
        {
          "output_type": "display_data",
          "data": {
            "text/html": [
              "<html>\n",
              "<head><meta charset=\"utf-8\" /></head>\n",
              "<body>\n",
              "    <div>            <script src=\"https://cdnjs.cloudflare.com/ajax/libs/mathjax/2.7.5/MathJax.js?config=TeX-AMS-MML_SVG\"></script><script type=\"text/javascript\">if (window.MathJax) {MathJax.Hub.Config({SVG: {font: \"STIX-Web\"}});}</script>                <script type=\"text/javascript\">window.PlotlyConfig = {MathJaxConfig: 'local'};</script>\n",
              "        <script src=\"https://cdn.plot.ly/plotly-2.8.3.min.js\"></script>                <div id=\"b18d16e5-1e69-47f5-b9b1-ffdac42779d9\" class=\"plotly-graph-div\" style=\"height:525px; width:100%;\"></div>            <script type=\"text/javascript\">                                    window.PLOTLYENV=window.PLOTLYENV || {};                                    if (document.getElementById(\"b18d16e5-1e69-47f5-b9b1-ffdac42779d9\")) {                    Plotly.newPlot(                        \"b18d16e5-1e69-47f5-b9b1-ffdac42779d9\",                        [{\"line\":{\"color\":\"black\",\"width\":1},\"mode\":\"lines\",\"name\":\"Rainfall - Actual\",\"opacity\":0.8,\"x\":[\"5/11/2015\",\"5/16/2015\",\"5/19/2015\",\"5/21/2015\",\"6/14/2015\",\"6/15/2015\",\"7/19/2015\",\"8/19/2015\",\"10/16/2015\",\"10/18/2015\",\"10/19/2015\",\"11/27/2015\",\"5/20/2016\",\"6/2/2016\",\"7/18/2016\",\"7/19/2016\",\"8/30/2016\",\"12/1/2016\",\"12/3/2016\",\"4/4/2017\",\"5/11/2017\",\"5/13/2017\",\"5/23/2017\",\"7/2/2017\",\"7/4/2017\",\"7/10/2017\",\"9/17/2017\",\"9/29/2017\",\"11/2/2017\",\"11/3/2017\",\"11/4/2017\",\"11/7/2017\",\"11/11/2017\",\"11/29/2017\",\"11/30/2017\",\"4/25/2018\",\"4/26/2018\",\"4/29/2018\",\"5/25/2018\",\"5/29/2018\",\"5/31/2018\",\"6/4/2018\",\"6/10/2018\",\"7/19/2018\",\"7/28/2018\",\"7/29/2018\",\"8/6/2018\",\"8/7/2018\",\"8/8/2018\",\"8/10/2018\",\"8/12/2018\",\"8/22/2018\",\"9/12/2018\",\"9/15/2018\",\"10/21/2018\",\"10/23/2018\",\"11/6/2018\",\"11/9/2018\",\"11/16/2018\",\"11/20/2018\",\"11/21/2018\",\"11/23/2018\",\"12/9/2018\",\"12/12/2018\",\"12/17/2018\",\"1/9/2019\",\"1/11/2019\",\"2/2/2019\",\"2/4/2019\",\"2/6/2019\",\"3/6/2019\",\"3/7/2019\",\"3/8/2019\",\"3/11/2019\",\"3/29/2019\",\"3/31/2019\",\"4/3/2019\",\"4/5/2019\",\"4/6/2019\",\"4/8/2019\",\"4/29/2019\",\"5/7/2019\",\"5/8/2019\",\"5/9/2019\",\"5/11/2019\",\"5/15/2019\",\"6/8/2019\",\"6/15/2019\",\"6/16/2019\",\"6/17/2019\",\"6/19/2019\",\"7/1/2019\",\"7/4/2019\",\"8/3/2019\",\"8/4/2019\",\"8/5/2019\",\"8/20/2019\",\"8/21/2019\",\"8/22/2019\",\"8/23/2019\",\"8/25/2019\",\"8/27/2019\",\"9/17/2019\",\"9/19/2019\",\"10/3/2019\",\"10/31/2019\"],\"y\":[74.5911,62.907876,61.708716,114.142248,109.579824,84.943116,73.244448,77.0445,60.085332,62.911656,104.177736,62.463888,78.942636,77.418324,90.282492,85.752756,73.896228,65.118276,61.321788,81.395532,138.27114,62.653248,60.341544,127.701072,90.25884,95.740452,67.414356,71.724132,146.71116,90.807732,127.732824,192.352788,65.7612,124.717536,132.321816,89.481348,89.003916,124.4727,2.845133,10.560056,81.232488,1.499788,4.735951,2.808835,69.63444,60.006888,3.493029,8.349534,5.041116,3.151418,3.287646,62.01864,20.881631,8.473831,4.551527,5.818723,7.193142,11.123874,5.261101,2.568064,6.48203,0.231283,5.04544,15.469092,101.3904,8.195533,1.974569,7.464492,1.199212,0.357028,0.200186,0.150296,0.198854,0.650934,130.512492,72.112752,1.461351,0.17084,0.227582,0.316118,89.446788,2.701445,5.077116,4.400798,3.552455,76.34088,119.186568,5.197918,6.368587,5.733659,1.507145,2.426385,1.224003,4.23,1.727124,2.447867,62.227584,63.547956,12.019698,69.649776,5.006196,1.543821,6.100092,6.704989,124.08984,96.608484],\"type\":\"scatter\"},{\"line\":{\"color\":\"red\",\"width\":1},\"mode\":\"lines\",\"name\":\"Rainfall - Predicted\",\"opacity\":0.8,\"x\":[\"5/11/2015\",\"5/16/2015\",\"5/19/2015\",\"5/21/2015\",\"6/14/2015\",\"6/15/2015\",\"7/19/2015\",\"8/19/2015\",\"10/16/2015\",\"10/18/2015\",\"10/19/2015\",\"11/27/2015\",\"5/20/2016\",\"6/2/2016\",\"7/18/2016\",\"7/19/2016\",\"8/30/2016\",\"12/1/2016\",\"12/3/2016\",\"4/4/2017\",\"5/11/2017\",\"5/13/2017\",\"5/23/2017\",\"7/2/2017\",\"7/4/2017\",\"7/10/2017\",\"9/17/2017\",\"9/29/2017\",\"11/2/2017\",\"11/3/2017\",\"11/4/2017\",\"11/7/2017\",\"11/11/2017\",\"11/29/2017\",\"11/30/2017\",\"4/25/2018\",\"4/26/2018\",\"4/29/2018\",\"5/25/2018\",\"5/29/2018\",\"5/31/2018\",\"6/4/2018\",\"6/10/2018\",\"7/19/2018\",\"7/28/2018\",\"7/29/2018\",\"8/6/2018\",\"8/7/2018\",\"8/8/2018\",\"8/10/2018\",\"8/12/2018\",\"8/22/2018\",\"9/12/2018\",\"9/15/2018\",\"10/21/2018\",\"10/23/2018\",\"11/6/2018\",\"11/9/2018\",\"11/16/2018\",\"11/20/2018\",\"11/21/2018\",\"11/23/2018\",\"12/9/2018\",\"12/12/2018\",\"12/17/2018\",\"1/9/2019\",\"1/11/2019\",\"2/2/2019\",\"2/4/2019\",\"2/6/2019\",\"3/6/2019\",\"3/7/2019\",\"3/8/2019\",\"3/11/2019\",\"3/29/2019\",\"3/31/2019\",\"4/3/2019\",\"4/5/2019\",\"4/6/2019\",\"4/8/2019\",\"4/29/2019\",\"5/7/2019\",\"5/8/2019\",\"5/9/2019\",\"5/11/2019\",\"5/15/2019\",\"6/8/2019\",\"6/15/2019\",\"6/16/2019\",\"6/17/2019\",\"6/19/2019\",\"7/1/2019\",\"7/4/2019\",\"8/3/2019\",\"8/4/2019\",\"8/5/2019\",\"8/20/2019\",\"8/21/2019\",\"8/22/2019\",\"8/23/2019\",\"8/25/2019\",\"8/27/2019\",\"9/17/2019\",\"9/19/2019\",\"10/3/2019\",\"10/31/2019\"],\"y\":[0.0,0.0,0.0,0.0,0.0,0.0,0.0,50.62019348144531,68.32666778564453,35.781028747558594,68.84446716308594,80.80461883544922,46.249855041503906,77.90934753417969,39.872005462646484,84.34065246582031,28.761062622070312,79.18158721923828,45.94990921020508,59.928863525390625,64.25106048583984,85.3376693725586,30.94828987121582,81.74059295654297,60.78345489501953,59.856117248535156,61.56013488769531,53.997093200683594,86.97623443603516,57.797061920166016,59.21891784667969,100.66653442382812,75.41413116455078,43.01511764526367,89.51785278320312,49.11338424682617,94.79708862304688,24.712827682495117,112.92829895019531,-7.634324073791504,80.68173217773438,60.35647201538086,45.10810852050781,42.4452018737793,44.33405303955078,90.53194427490234,-22.8913516998291,66.71597290039062,17.543163299560547,26.84237289428711,18.280162811279297,25.882905960083008,81.74710845947266,-2.4505503177642822,49.060035705566406,-2.0583736896514893,48.00400924682617,-2.5073699951171875,50.122596740722656,27.56464958190918,26.675081253051758,22.684816360473633,20.973615646362305,26.094388961791992,27.531490325927734,72.39904022216797,-27.126211166381836,67.41154479980469,-21.94584083557129,61.03438186645508,-19.907669067382812,64.93547821044922,27.724580764770508,17.951438903808594,24.4757137298584,85.94288635253906,-10.661096572875977,51.04125213623047,-11.578333854675293,50.98915100097656,-11.621036529541016,91.92057037353516,10.740745544433594,68.48007202148438,-27.269412994384766,66.85612487792969,13.280792236328125,85.672119140625,-1.8608745336532593,46.85426330566406,-1.0609095096588135,44.2886962890625,-1.174734354019165,74.86400604248047,25.243974685668945,19.607131958007812,26.335437774658203,51.583274841308594,24.644514083862305,24.2137508392334,54.84376525878906,-10.27599048614502,51.673004150390625,-7.484992027282715,77.56123352050781,57.33774948120117],\"type\":\"scatter\"}],                        {\"template\":{\"data\":{\"bar\":[{\"error_x\":{\"color\":\"#2a3f5f\"},\"error_y\":{\"color\":\"#2a3f5f\"},\"marker\":{\"line\":{\"color\":\"#E5ECF6\",\"width\":0.5},\"pattern\":{\"fillmode\":\"overlay\",\"size\":10,\"solidity\":0.2}},\"type\":\"bar\"}],\"barpolar\":[{\"marker\":{\"line\":{\"color\":\"#E5ECF6\",\"width\":0.5},\"pattern\":{\"fillmode\":\"overlay\",\"size\":10,\"solidity\":0.2}},\"type\":\"barpolar\"}],\"carpet\":[{\"aaxis\":{\"endlinecolor\":\"#2a3f5f\",\"gridcolor\":\"white\",\"linecolor\":\"white\",\"minorgridcolor\":\"white\",\"startlinecolor\":\"#2a3f5f\"},\"baxis\":{\"endlinecolor\":\"#2a3f5f\",\"gridcolor\":\"white\",\"linecolor\":\"white\",\"minorgridcolor\":\"white\",\"startlinecolor\":\"#2a3f5f\"},\"type\":\"carpet\"}],\"choropleth\":[{\"colorbar\":{\"outlinewidth\":0,\"ticks\":\"\"},\"type\":\"choropleth\"}],\"contour\":[{\"colorbar\":{\"outlinewidth\":0,\"ticks\":\"\"},\"colorscale\":[[0.0,\"#0d0887\"],[0.1111111111111111,\"#46039f\"],[0.2222222222222222,\"#7201a8\"],[0.3333333333333333,\"#9c179e\"],[0.4444444444444444,\"#bd3786\"],[0.5555555555555556,\"#d8576b\"],[0.6666666666666666,\"#ed7953\"],[0.7777777777777778,\"#fb9f3a\"],[0.8888888888888888,\"#fdca26\"],[1.0,\"#f0f921\"]],\"type\":\"contour\"}],\"contourcarpet\":[{\"colorbar\":{\"outlinewidth\":0,\"ticks\":\"\"},\"type\":\"contourcarpet\"}],\"heatmap\":[{\"colorbar\":{\"outlinewidth\":0,\"ticks\":\"\"},\"colorscale\":[[0.0,\"#0d0887\"],[0.1111111111111111,\"#46039f\"],[0.2222222222222222,\"#7201a8\"],[0.3333333333333333,\"#9c179e\"],[0.4444444444444444,\"#bd3786\"],[0.5555555555555556,\"#d8576b\"],[0.6666666666666666,\"#ed7953\"],[0.7777777777777778,\"#fb9f3a\"],[0.8888888888888888,\"#fdca26\"],[1.0,\"#f0f921\"]],\"type\":\"heatmap\"}],\"heatmapgl\":[{\"colorbar\":{\"outlinewidth\":0,\"ticks\":\"\"},\"colorscale\":[[0.0,\"#0d0887\"],[0.1111111111111111,\"#46039f\"],[0.2222222222222222,\"#7201a8\"],[0.3333333333333333,\"#9c179e\"],[0.4444444444444444,\"#bd3786\"],[0.5555555555555556,\"#d8576b\"],[0.6666666666666666,\"#ed7953\"],[0.7777777777777778,\"#fb9f3a\"],[0.8888888888888888,\"#fdca26\"],[1.0,\"#f0f921\"]],\"type\":\"heatmapgl\"}],\"histogram\":[{\"marker\":{\"pattern\":{\"fillmode\":\"overlay\",\"size\":10,\"solidity\":0.2}},\"type\":\"histogram\"}],\"histogram2d\":[{\"colorbar\":{\"outlinewidth\":0,\"ticks\":\"\"},\"colorscale\":[[0.0,\"#0d0887\"],[0.1111111111111111,\"#46039f\"],[0.2222222222222222,\"#7201a8\"],[0.3333333333333333,\"#9c179e\"],[0.4444444444444444,\"#bd3786\"],[0.5555555555555556,\"#d8576b\"],[0.6666666666666666,\"#ed7953\"],[0.7777777777777778,\"#fb9f3a\"],[0.8888888888888888,\"#fdca26\"],[1.0,\"#f0f921\"]],\"type\":\"histogram2d\"}],\"histogram2dcontour\":[{\"colorbar\":{\"outlinewidth\":0,\"ticks\":\"\"},\"colorscale\":[[0.0,\"#0d0887\"],[0.1111111111111111,\"#46039f\"],[0.2222222222222222,\"#7201a8\"],[0.3333333333333333,\"#9c179e\"],[0.4444444444444444,\"#bd3786\"],[0.5555555555555556,\"#d8576b\"],[0.6666666666666666,\"#ed7953\"],[0.7777777777777778,\"#fb9f3a\"],[0.8888888888888888,\"#fdca26\"],[1.0,\"#f0f921\"]],\"type\":\"histogram2dcontour\"}],\"mesh3d\":[{\"colorbar\":{\"outlinewidth\":0,\"ticks\":\"\"},\"type\":\"mesh3d\"}],\"parcoords\":[{\"line\":{\"colorbar\":{\"outlinewidth\":0,\"ticks\":\"\"}},\"type\":\"parcoords\"}],\"pie\":[{\"automargin\":true,\"type\":\"pie\"}],\"scatter\":[{\"marker\":{\"colorbar\":{\"outlinewidth\":0,\"ticks\":\"\"}},\"type\":\"scatter\"}],\"scatter3d\":[{\"line\":{\"colorbar\":{\"outlinewidth\":0,\"ticks\":\"\"}},\"marker\":{\"colorbar\":{\"outlinewidth\":0,\"ticks\":\"\"}},\"type\":\"scatter3d\"}],\"scattercarpet\":[{\"marker\":{\"colorbar\":{\"outlinewidth\":0,\"ticks\":\"\"}},\"type\":\"scattercarpet\"}],\"scattergeo\":[{\"marker\":{\"colorbar\":{\"outlinewidth\":0,\"ticks\":\"\"}},\"type\":\"scattergeo\"}],\"scattergl\":[{\"marker\":{\"colorbar\":{\"outlinewidth\":0,\"ticks\":\"\"}},\"type\":\"scattergl\"}],\"scattermapbox\":[{\"marker\":{\"colorbar\":{\"outlinewidth\":0,\"ticks\":\"\"}},\"type\":\"scattermapbox\"}],\"scatterpolar\":[{\"marker\":{\"colorbar\":{\"outlinewidth\":0,\"ticks\":\"\"}},\"type\":\"scatterpolar\"}],\"scatterpolargl\":[{\"marker\":{\"colorbar\":{\"outlinewidth\":0,\"ticks\":\"\"}},\"type\":\"scatterpolargl\"}],\"scatterternary\":[{\"marker\":{\"colorbar\":{\"outlinewidth\":0,\"ticks\":\"\"}},\"type\":\"scatterternary\"}],\"surface\":[{\"colorbar\":{\"outlinewidth\":0,\"ticks\":\"\"},\"colorscale\":[[0.0,\"#0d0887\"],[0.1111111111111111,\"#46039f\"],[0.2222222222222222,\"#7201a8\"],[0.3333333333333333,\"#9c179e\"],[0.4444444444444444,\"#bd3786\"],[0.5555555555555556,\"#d8576b\"],[0.6666666666666666,\"#ed7953\"],[0.7777777777777778,\"#fb9f3a\"],[0.8888888888888888,\"#fdca26\"],[1.0,\"#f0f921\"]],\"type\":\"surface\"}],\"table\":[{\"cells\":{\"fill\":{\"color\":\"#EBF0F8\"},\"line\":{\"color\":\"white\"}},\"header\":{\"fill\":{\"color\":\"#C8D4E3\"},\"line\":{\"color\":\"white\"}},\"type\":\"table\"}]},\"layout\":{\"annotationdefaults\":{\"arrowcolor\":\"#2a3f5f\",\"arrowhead\":0,\"arrowwidth\":1},\"autotypenumbers\":\"strict\",\"coloraxis\":{\"colorbar\":{\"outlinewidth\":0,\"ticks\":\"\"}},\"colorscale\":{\"diverging\":[[0,\"#8e0152\"],[0.1,\"#c51b7d\"],[0.2,\"#de77ae\"],[0.3,\"#f1b6da\"],[0.4,\"#fde0ef\"],[0.5,\"#f7f7f7\"],[0.6,\"#e6f5d0\"],[0.7,\"#b8e186\"],[0.8,\"#7fbc41\"],[0.9,\"#4d9221\"],[1,\"#276419\"]],\"sequential\":[[0.0,\"#0d0887\"],[0.1111111111111111,\"#46039f\"],[0.2222222222222222,\"#7201a8\"],[0.3333333333333333,\"#9c179e\"],[0.4444444444444444,\"#bd3786\"],[0.5555555555555556,\"#d8576b\"],[0.6666666666666666,\"#ed7953\"],[0.7777777777777778,\"#fb9f3a\"],[0.8888888888888888,\"#fdca26\"],[1.0,\"#f0f921\"]],\"sequentialminus\":[[0.0,\"#0d0887\"],[0.1111111111111111,\"#46039f\"],[0.2222222222222222,\"#7201a8\"],[0.3333333333333333,\"#9c179e\"],[0.4444444444444444,\"#bd3786\"],[0.5555555555555556,\"#d8576b\"],[0.6666666666666666,\"#ed7953\"],[0.7777777777777778,\"#fb9f3a\"],[0.8888888888888888,\"#fdca26\"],[1.0,\"#f0f921\"]]},\"colorway\":[\"#636efa\",\"#EF553B\",\"#00cc96\",\"#ab63fa\",\"#FFA15A\",\"#19d3f3\",\"#FF6692\",\"#B6E880\",\"#FF97FF\",\"#FECB52\"],\"font\":{\"color\":\"#2a3f5f\"},\"geo\":{\"bgcolor\":\"white\",\"lakecolor\":\"white\",\"landcolor\":\"#E5ECF6\",\"showlakes\":true,\"showland\":true,\"subunitcolor\":\"white\"},\"hoverlabel\":{\"align\":\"left\"},\"hovermode\":\"closest\",\"mapbox\":{\"style\":\"light\"},\"paper_bgcolor\":\"white\",\"plot_bgcolor\":\"#E5ECF6\",\"polar\":{\"angularaxis\":{\"gridcolor\":\"white\",\"linecolor\":\"white\",\"ticks\":\"\"},\"bgcolor\":\"#E5ECF6\",\"radialaxis\":{\"gridcolor\":\"white\",\"linecolor\":\"white\",\"ticks\":\"\"}},\"scene\":{\"xaxis\":{\"backgroundcolor\":\"#E5ECF6\",\"gridcolor\":\"white\",\"gridwidth\":2,\"linecolor\":\"white\",\"showbackground\":true,\"ticks\":\"\",\"zerolinecolor\":\"white\"},\"yaxis\":{\"backgroundcolor\":\"#E5ECF6\",\"gridcolor\":\"white\",\"gridwidth\":2,\"linecolor\":\"white\",\"showbackground\":true,\"ticks\":\"\",\"zerolinecolor\":\"white\"},\"zaxis\":{\"backgroundcolor\":\"#E5ECF6\",\"gridcolor\":\"white\",\"gridwidth\":2,\"linecolor\":\"white\",\"showbackground\":true,\"ticks\":\"\",\"zerolinecolor\":\"white\"}},\"shapedefaults\":{\"line\":{\"color\":\"#2a3f5f\"}},\"ternary\":{\"aaxis\":{\"gridcolor\":\"white\",\"linecolor\":\"white\",\"ticks\":\"\"},\"baxis\":{\"gridcolor\":\"white\",\"linecolor\":\"white\",\"ticks\":\"\"},\"bgcolor\":\"#E5ECF6\",\"caxis\":{\"gridcolor\":\"white\",\"linecolor\":\"white\",\"ticks\":\"\"}},\"title\":{\"x\":0.05},\"xaxis\":{\"automargin\":true,\"gridcolor\":\"white\",\"linecolor\":\"white\",\"ticks\":\"\",\"title\":{\"standoff\":15},\"zerolinecolor\":\"white\",\"zerolinewidth\":2},\"yaxis\":{\"automargin\":true,\"gridcolor\":\"white\",\"linecolor\":\"white\",\"ticks\":\"\",\"title\":{\"standoff\":15},\"zerolinecolor\":\"white\",\"zerolinewidth\":2}}},\"plot_bgcolor\":\"white\",\"xaxis\":{\"showgrid\":true,\"gridwidth\":1,\"gridcolor\":\"lightgrey\",\"zeroline\":true,\"zerolinewidth\":1,\"zerolinecolor\":\"lightgrey\",\"showline\":true,\"linewidth\":1,\"linecolor\":\"black\",\"title\":{\"text\":\"Observation\"}},\"yaxis\":{\"showgrid\":true,\"gridwidth\":1,\"gridcolor\":\"lightgrey\",\"zeroline\":true,\"zerolinewidth\":1,\"zerolinecolor\":\"lightgrey\",\"showline\":true,\"linewidth\":1,\"linecolor\":\"black\",\"title\":{\"text\":\"mm\"}},\"title\":{\"font\":{\"color\":\"black\"},\"text\":\"Rainfall (mm)\"},\"legend\":{\"orientation\":\"h\",\"yanchor\":\"bottom\",\"y\":1.02,\"xanchor\":\"right\",\"x\":1}},                        {\"responsive\": true}                    ).then(function(){\n",
              "                            \n",
              "var gd = document.getElementById('b18d16e5-1e69-47f5-b9b1-ffdac42779d9');\n",
              "var x = new MutationObserver(function (mutations, observer) {{\n",
              "        var display = window.getComputedStyle(gd).display;\n",
              "        if (!display || display === 'none') {{\n",
              "            console.log([gd, 'removed!']);\n",
              "            Plotly.purge(gd);\n",
              "            observer.disconnect();\n",
              "        }}\n",
              "}});\n",
              "\n",
              "// Listen for the removal of the full notebook cells\n",
              "var notebookContainer = gd.closest('#notebook-container');\n",
              "if (notebookContainer) {{\n",
              "    x.observe(notebookContainer, {childList: true});\n",
              "}}\n",
              "\n",
              "// Listen for the clearing of the current output cell\n",
              "var outputEl = gd.closest('.output');\n",
              "if (outputEl) {{\n",
              "    x.observe(outputEl, {childList: true});\n",
              "}}\n",
              "\n",
              "                        })                };                            </script>        </div>\n",
              "</body>\n",
              "</html>"
            ]
          },
          "metadata": {}
        }
      ]
    },
    {
      "cell_type": "code",
      "source": [
        "import streamlit as st\n",
        "st.write ('Hello')\n",
        "st.write('##run streamlit on colab with pyngrok')"
      ],
      "metadata": {
        "colab": {
          "base_uri": "https://localhost:8080/",
          "height": 339
        },
        "id": "QEg3l7SC71PY",
        "outputId": "89e5ec77-5706-4ac1-ad1f-e325e8530a0b"
      },
      "execution_count": null,
      "outputs": [
        {
          "output_type": "error",
          "ename": "ModuleNotFoundError",
          "evalue": "ignored",
          "traceback": [
            "\u001b[0;31m---------------------------------------------------------------------------\u001b[0m",
            "\u001b[0;31mModuleNotFoundError\u001b[0m                       Traceback (most recent call last)",
            "\u001b[0;32m<ipython-input-2-08ed2ba49521>\u001b[0m in \u001b[0;36m<module>\u001b[0;34m\u001b[0m\n\u001b[0;32m----> 1\u001b[0;31m \u001b[0;32mimport\u001b[0m \u001b[0mstreamlit\u001b[0m \u001b[0;32mas\u001b[0m \u001b[0mst\u001b[0m\u001b[0;34m\u001b[0m\u001b[0;34m\u001b[0m\u001b[0m\n\u001b[0m\u001b[1;32m      2\u001b[0m \u001b[0mst\u001b[0m\u001b[0;34m.\u001b[0m\u001b[0mwrite\u001b[0m \u001b[0;34m(\u001b[0m\u001b[0;34m'Hello'\u001b[0m\u001b[0;34m)\u001b[0m\u001b[0;34m\u001b[0m\u001b[0;34m\u001b[0m\u001b[0m\n\u001b[1;32m      3\u001b[0m \u001b[0mst\u001b[0m\u001b[0;34m.\u001b[0m\u001b[0mwrite\u001b[0m\u001b[0;34m(\u001b[0m\u001b[0;34m'##run streamlit on colab with pyngrok'\u001b[0m\u001b[0;34m)\u001b[0m\u001b[0;34m\u001b[0m\u001b[0;34m\u001b[0m\u001b[0m\n",
            "\u001b[0;31mModuleNotFoundError\u001b[0m: No module named 'streamlit'",
            "",
            "\u001b[0;31m---------------------------------------------------------------------------\u001b[0;32m\nNOTE: If your import is failing due to a missing package, you can\nmanually install dependencies using either !pip or !apt.\n\nTo view examples of installing some common dependencies, click the\n\"Open Examples\" button below.\n\u001b[0;31m---------------------------------------------------------------------------\u001b[0m\n"
          ],
          "errorDetails": {
            "actions": [
              {
                "action": "open_url",
                "actionText": "Open Examples",
                "url": "/notebooks/snippets/importing_libraries.ipynb"
              }
            ]
          }
        }
      ]
    }
  ]
}